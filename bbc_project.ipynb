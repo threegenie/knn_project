{
  "nbformat": 4,
  "nbformat_minor": 0,
  "metadata": {
    "colab": {
      "name": "bbc project.ipynb",
      "provenance": [],
      "collapsed_sections": [],
      "machine_shape": "hm",
      "include_colab_link": true
    },
    "kernelspec": {
      "name": "python3",
      "display_name": "Python 3"
    },
    "language_info": {
      "name": "python"
    },
    "accelerator": "GPU"
  },
  "cells": [
    {
      "cell_type": "markdown",
      "metadata": {
        "id": "view-in-github",
        "colab_type": "text"
      },
      "source": [
        "<a href=\"https://colab.research.google.com/github/threegenie/knn_project/blob/main/bbc_project.ipynb\" target=\"_parent\"><img src=\"https://colab.research.google.com/assets/colab-badge.svg\" alt=\"Open In Colab\"/></a>"
      ]
    },
    {
      "cell_type": "code",
      "metadata": {
        "colab": {
          "base_uri": "https://localhost:8080/",
          "height": 242
        },
        "id": "oO9gk4XWsFVK",
        "outputId": "85cb436a-6656-4f5d-931b-e6e582225ea9"
      },
      "source": [
        "import pandas as pd\n",
        "import os, sys\n",
        "import numpy as np\n",
        "from google.colab import drive\n",
        "\n",
        "drive.mount('/content/drive')\n",
        "df = pd.read_csv('/content/drive/My Drive/BBCarticles_csv.csv',encoding= 'unicode_escape')\n",
        "df.head()"
      ],
      "execution_count": 1,
      "outputs": [
        {
          "output_type": "stream",
          "text": [
            "Drive already mounted at /content/drive; to attempt to forcibly remount, call drive.mount(\"/content/drive\", force_remount=True).\n"
          ],
          "name": "stdout"
        },
        {
          "output_type": "execute_result",
          "data": {
            "text/html": [
              "<div>\n",
              "<style scoped>\n",
              "    .dataframe tbody tr th:only-of-type {\n",
              "        vertical-align: middle;\n",
              "    }\n",
              "\n",
              "    .dataframe tbody tr th {\n",
              "        vertical-align: top;\n",
              "    }\n",
              "\n",
              "    .dataframe thead th {\n",
              "        text-align: right;\n",
              "    }\n",
              "</style>\n",
              "<table border=\"1\" class=\"dataframe\">\n",
              "  <thead>\n",
              "    <tr style=\"text-align: right;\">\n",
              "      <th></th>\n",
              "      <th>Summary</th>\n",
              "      <th>Text</th>\n",
              "    </tr>\n",
              "  </thead>\n",
              "  <tbody>\n",
              "    <tr>\n",
              "      <th>0</th>\n",
              "      <td>TimeWarner said fourth quarter sales rose 2% t...</td>\n",
              "      <td>Ad sales boost Time Warner profit\\n\\nQuarterly...</td>\n",
              "    </tr>\n",
              "    <tr>\n",
              "      <th>1</th>\n",
              "      <td>The dollar has hit its highest level against t...</td>\n",
              "      <td>Dollar gains on Greenspan speech\\n\\nThe dollar...</td>\n",
              "    </tr>\n",
              "    <tr>\n",
              "      <th>2</th>\n",
              "      <td>Yukos' owner Menatep Group says it will ask Ro...</td>\n",
              "      <td>Yukos unit buyer faces loan claim\\n\\nThe owner...</td>\n",
              "    </tr>\n",
              "    <tr>\n",
              "      <th>3</th>\n",
              "      <td>Rod Eddington, BA's chief executive, said the ...</td>\n",
              "      <td>High fuel prices hit BA's profits\\n\\nBritish A...</td>\n",
              "    </tr>\n",
              "    <tr>\n",
              "      <th>4</th>\n",
              "      <td>Pernod has reduced the debt it took on to fund...</td>\n",
              "      <td>Pernod takeover talk lifts Domecq\\n\\nShares in...</td>\n",
              "    </tr>\n",
              "  </tbody>\n",
              "</table>\n",
              "</div>"
            ],
            "text/plain": [
              "                                             Summary                                               Text\n",
              "0  TimeWarner said fourth quarter sales rose 2% t...  Ad sales boost Time Warner profit\\n\\nQuarterly...\n",
              "1  The dollar has hit its highest level against t...  Dollar gains on Greenspan speech\\n\\nThe dollar...\n",
              "2  Yukos' owner Menatep Group says it will ask Ro...  Yukos unit buyer faces loan claim\\n\\nThe owner...\n",
              "3  Rod Eddington, BA's chief executive, said the ...  High fuel prices hit BA's profits\\n\\nBritish A...\n",
              "4  Pernod has reduced the debt it took on to fund...  Pernod takeover talk lifts Domecq\\n\\nShares in..."
            ]
          },
          "metadata": {
            "tags": []
          },
          "execution_count": 1
        }
      ]
    },
    {
      "cell_type": "markdown",
      "metadata": {
        "id": "a-iDeLWMx4Q_"
      },
      "source": [
        "#### 토큰 정제"
      ]
    },
    {
      "cell_type": "code",
      "metadata": {
        "colab": {
          "base_uri": "https://localhost:8080/"
        },
        "id": "MkgdoCK6x8uY",
        "outputId": "8d947bd7-26f6-4fdd-fba6-f6d054233bda"
      },
      "source": [
        "!pip install squarify"
      ],
      "execution_count": 2,
      "outputs": [
        {
          "output_type": "stream",
          "text": [
            "Requirement already satisfied: squarify in /usr/local/lib/python3.7/dist-packages (0.4.3)\n"
          ],
          "name": "stdout"
        }
      ]
    },
    {
      "cell_type": "code",
      "metadata": {
        "id": "AiewFQ12uJze"
      },
      "source": [
        "import re\n",
        "import squarify\n",
        "import matplotlib.pyplot as plt\n",
        "import seaborn as sns\n",
        "import spacy\n",
        "from spacy.tokenizer import Tokenizer"
      ],
      "execution_count": 3,
      "outputs": []
    },
    {
      "cell_type": "code",
      "metadata": {
        "colab": {
          "base_uri": "https://localhost:8080/"
        },
        "id": "Kg1SfPQoyCPG",
        "outputId": "14988a2d-af1a-42d3-cd96-41bd901e4800"
      },
      "source": [
        "#결측값 처리\n",
        "df.dropna().info()"
      ],
      "execution_count": 4,
      "outputs": [
        {
          "output_type": "stream",
          "text": [
            "<class 'pandas.core.frame.DataFrame'>\n",
            "Int64Index: 2225 entries, 0 to 2224\n",
            "Data columns (total 2 columns):\n",
            " #   Column   Non-Null Count  Dtype \n",
            "---  ------   --------------  ----- \n",
            " 0   Summary  2225 non-null   object\n",
            " 1   Text     2225 non-null   object\n",
            "dtypes: object(2)\n",
            "memory usage: 52.1+ KB\n"
          ],
          "name": "stdout"
        }
      ]
    },
    {
      "cell_type": "code",
      "metadata": {
        "colab": {
          "base_uri": "https://localhost:8080/"
        },
        "id": "GCmL5Ie-yltW",
        "outputId": "718f98a3-341a-4acc-9e3c-e26706a4f0a2"
      },
      "source": [
        "#문자를 소문자로 통일\n",
        "df['Text'] = df['Text'].apply(lambda x : x.lower())\n",
        "df['Text'].head(3)"
      ],
      "execution_count": 5,
      "outputs": [
        {
          "output_type": "execute_result",
          "data": {
            "text/plain": [
              "0    ad sales boost time warner profit\\n\\nquarterly...\n",
              "1    dollar gains on greenspan speech\\n\\nthe dollar...\n",
              "2    yukos unit buyer faces loan claim\\n\\nthe owner...\n",
              "Name: Text, dtype: object"
            ]
          },
          "metadata": {
            "tags": []
          },
          "execution_count": 5
        }
      ]
    },
    {
      "cell_type": "code",
      "metadata": {
        "colab": {
          "base_uri": "https://localhost:8080/"
        },
        "id": "6xgWZBAoysKe",
        "outputId": "f0c6d963-e79a-4236-ba77-622f7c0edd51"
      },
      "source": [
        "#줄바꿈 문자 정리\n",
        "df['Text'] = df['Text'].str.replace('\\n',' ')\n",
        "df['Text'].head(3)"
      ],
      "execution_count": 6,
      "outputs": [
        {
          "output_type": "execute_result",
          "data": {
            "text/plain": [
              "0    ad sales boost time warner profit  quarterly p...\n",
              "1    dollar gains on greenspan speech  the dollar h...\n",
              "2    yukos unit buyer faces loan claim  the owners ...\n",
              "Name: Text, dtype: object"
            ]
          },
          "metadata": {
            "tags": []
          },
          "execution_count": 6
        }
      ]
    },
    {
      "cell_type": "code",
      "metadata": {
        "id": "DpNdVAiazZEG"
      },
      "source": [
        "#알파벳, 숫자만 받을 수 있도록 함수 작성(text):\n",
        "\n",
        "regex = r\"[^a-zA-Z0-9 ]\"\n",
        "subst = \"\"\n",
        "\n",
        "def tokenize(text):\n",
        "\n",
        "    # 정규식 적용\n",
        "    tokens = re.sub(regex, subst, text)\n",
        "\n",
        "    # split\n",
        "    tokens = tokens.split()\n",
        "    \n",
        "    return tokens\n",
        "\n",
        "df['Tokens'] = df['Text'].apply(tokenize)"
      ],
      "execution_count": 7,
      "outputs": []
    },
    {
      "cell_type": "code",
      "metadata": {
        "colab": {
          "base_uri": "https://localhost:8080/"
        },
        "id": "mEY4WvQQyEb-",
        "outputId": "4b2581a0-abdb-41c5-f6d8-63c79e54d09e"
      },
      "source": [
        "#기본 불용어 불러오기\n",
        "nlp = spacy.load(\"en_core_web_sm\")\n",
        "tokenizer = Tokenizer(nlp.vocab)\n",
        "print(nlp.Defaults.stop_words)"
      ],
      "execution_count": 8,
      "outputs": [
        {
          "output_type": "stream",
          "text": [
            "{'by', 'very', 'otherwise', \"'ve\", 'have', 'top', '’ll', 'myself', 'how', 'am', 'why', 'ours', 'not', 'seeming', 'as', 'anyhow', \"'re\", 'much', 'under', 'during', 'everywhere', 'side', 'move', 'any', 'to', 'well', 'twelve', '’re', 'all', 'him', 'because', 'whole', 'down', 'together', 'did', 'twenty', 'rather', 'n’t', 'cannot', 'sometime', 'we', 'amount', 'must', 'are', \"'ll\", 'another', 'either', 'name', 'get', 'two', 'so', 'each', 'thence', 'else', 'around', 'which', 'also', 'although', 'amongst', 'per', 'from', 'latter', 'some', 'somewhere', 'hereafter', 'beforehand', 'same', 'these', '‘m', 'whence', 'becomes', 'at', 'within', 'before', 're', 'nowhere', 'might', 'wherever', 'whose', 'through', 'above', 'and', 'whether', 'though', 'take', 'formerly', 'one', 'thereby', 'has', 'ten', 'put', 'hence', 'behind', \"'d\", 'never', 'nothing', 'below', 'using', 'is', 'itself', '’d', 'fifteen', 'more', '‘d', 'hereupon', 'however', 'serious', 'thereupon', 'four', 'namely', 'for', 'i', 'towards', 'every', 'regarding', 'somehow', 'full', 'yet', 'whereupon', 'anything', 'back', 'own', 'sometimes', 'until', 'my', 'least', 'they', 'front', 'due', 'should', 'third', 'just', 'with', 'both', 'go', 'while', 'that', 'again', 'other', 'no', 'first', 'besides', 'noone', 'nor', 'up', 'seem', 'you', 'afterwards', 'call', 'used', 'eight', 'neither', 'the', 'whereas', 'hereby', 'whatever', 'herein', 'will', 'yourself', 'or', 'therefore', 'after', 'indeed', 'about', 'none', \"'s\", 'than', '’s', 'on', 'still', 'n‘t', 'thru', 'less', 'me', 'please', 'now', 'being', 'even', 'former', '‘ve', 'what', 'thus', \"'m\", 'was', 'whereby', 'here', 'therein', 'this', 'empty', 'since', 'everything', 'their', 'into', 'perhaps', 'something', 'already', 'it', '‘ll', 'anyway', 'yours', 'be', 'your', 'bottom', 'unless', 'against', 'others', 'alone', 'between', 'mostly', 'hers', 'her', 'become', 'anyone', 'becoming', 'six', 'those', 'a', 'along', 'there', 'made', 'over', 'fifty', 'nobody', 'five', 'in', 'done', 'she', 'out', 'had', 'who', 'many', 'when', 'our', '‘s', 'he', 'everyone', '’ve', 'could', 'quite', 'really', 'whenever', 'onto', 'whoever', 'eleven', 'keep', 'nine', 'often', 'always', 'ever', 'ourselves', 'make', 'its', 'across', 'latterly', 'yourselves', 'give', 'seemed', 'moreover', 'where', 'nevertheless', 'say', 'throughout', 'does', 'elsewhere', 'next', 'too', '‘re', 'mine', 'became', 'whom', 'hundred', 'via', 'himself', 'off', 'someone', 'only', 'themselves', 'seems', 'but', 'ca', 'once', 'if', 'anywhere', 'few', 'sixty', 'of', 'doing', 'several', 'almost', 'except', 'show', 'were', 'do', 'may', 'see', 'an', 'would', 'meanwhile', 'most', 'last', 'herself', 'thereafter', 'further', 'such', 'part', 'whereafter', 'toward', \"n't\", 'beyond', 'among', 'enough', 'upon', 'then', 'various', 'us', 'whither', 'wherein', 'forty', 'them', 'without', 'three', '’m', 'his', 'can', 'been', 'beside'}\n"
          ],
          "name": "stdout"
        }
      ]
    },
    {
      "cell_type": "code",
      "metadata": {
        "id": "fq4pUhU_yPE2"
      },
      "source": [
        "#불용어 추가하기\n",
        "st_words = nlp.Defaults.stop_words.union(['this', 'i', 'it', 'is', 'in', 'and', 'a', 'the', 'but', 'to', \"it's\", \"i'm\",'it.',' ',\n",
        "                                          'said','-','mr','new','said.','\"i','told','\"the','uk','best','year','time',\n",
        "                                          'like','\"we','number','bbc','said:','years','m','not'])"
      ],
      "execution_count": 21,
      "outputs": []
    },
    {
      "cell_type": "code",
      "metadata": {
        "id": "02_LubCnyUB-"
      },
      "source": [
        "def tokenize(text):\n",
        "  text = text.lower()\n",
        "  text = text.replace(\"\\n\",\" \")\n",
        "\n",
        "  subst = \"\"\n",
        "  regex = \"[^a-zA-Z0-9 ]\"\n",
        "  doc = re.sub(regex, subst, text)\n",
        "\n",
        "  doc = nlp(doc)\n",
        "  tokens = []\n",
        "\n",
        "  for token in doc :\n",
        "    if (token.text.lower() not in st_words) & (token.is_stop == False) & (token.is_punct == False) & (token.is_alpha):\n",
        "      tokens.append(token.lemma_)\n",
        "      \n",
        "  return tokens"
      ],
      "execution_count": 22,
      "outputs": []
    },
    {
      "cell_type": "code",
      "metadata": {
        "id": "Re7eU4hdINiI",
        "outputId": "2fd0ba6b-81f0-4a99-d01d-cbc17bd4bfa6",
        "colab": {
          "base_uri": "https://localhost:8080/"
        }
      },
      "source": [
        "df['Tokens']=df['Text'].apply(tokenize)\n",
        "df['Tokens'].head(3)"
      ],
      "execution_count": 23,
      "outputs": [
        {
          "output_type": "execute_result",
          "data": {
            "text/plain": [
              "0    [ad, sale, boost, warner, profit, quarterly, p...\n",
              "1    [dollar, gain, greenspan, speech, dollar, hit,...\n",
              "2    [yukos, unit, buyer, face, loan, claim, owner,...\n",
              "Name: Tokens, dtype: object"
            ]
          },
          "metadata": {
            "tags": []
          },
          "execution_count": 23
        }
      ]
    },
    {
      "cell_type": "code",
      "metadata": {
        "id": "2BZgZriVHCwl",
        "outputId": "dea71bd5-0b3d-494d-c17d-a6ceaf96e6e3",
        "colab": {
          "base_uri": "https://localhost:8080/"
        }
      },
      "source": [
        "print(df['Tokens'].loc[29])"
      ],
      "execution_count": 24,
      "outputs": [
        {
          "output_type": "stream",
          "text": [
            "['soar', 'oil', 'hit', 'world', 'economy', 'soar', 'cost', 'oil', 'hit', 'global', 'economic', 'growth', 'world', 'major', 'economy', 'weather', 'storm', 'price', 'rise', 'accord', 'oecd', 'late', 'biannual', 'report', 'oecd', 'cut', 'growth', 'prediction', 'world', 'main', 'industrialise', 'region', 'growth', 'reach', 'fall', 'previous', 'estimate', 'oecd', 'parisbased', 'economic', 'think', 'tank', 'believe', 'global', 'economy', 'regain', 'momentum', 'forecast', 'japanese', 'growth', 'scale', 'outlook', 'bad', 'eurozone', 'bloc', 'sluggish', 'growth', 'forecast', 'slip', 'oecd', 'overall', 'report', 'forecast', 'total', 'growth', 'member', 'country', 'oecd', 'slip', 'recover', 'nonetheless', 'good', 'reason', 'believe', 'despite', 'recent', 'oil', 'price', 'turbulence', 'world', 'economy', 'regain', 'momentum', 'nottoodistant', 'future', 'jeanphilippe', 'cotis', 'oecds', 'chief', 'economist', 'price', 'crude', 'high', 'start', 'record', 'high', 'set', 'late', 'october', 'dip', 'oil', 'price', 'improve', 'job', 'prospect', 'improve', 'consumer', 'confidence', 'spend', 'oecd', 'oil', 'shock', 'enormous', 'historical', 'standard', 'see', 'bad', 'seventy', 'oil', 'price', 'rise', 'think', 'shock', 'absorb', 'quarter', 'vincent', 'koen', 'senior', 'economist', 'oecd', 'bbcs', 'world', 'business', 'report', 'recovery', 'underway', 'interrupt', 'bit', 'oil', 'shock', 'regain', 'momentum', 'course', 'china', 'boom', 'economy', 'spectacular', 'comeback', 'japan', 'albeit', 'falter', 'recent', 'month', 'help', 'world', 'economic', 'recovery', 'oecd', 'support', 'strong', 'balance', 'sheet', 'high', 'profit', 'recovery', 'business', 'investment', 'continue', 'north', 'america', 'start', 'earnest', 'europe', 'add', 'report', 'warn', 'remain', 'see', 'continental', 'europe', 'play', 'strong', 'supportive', 'role', 'marked', 'upswing', 'final', 'domestic', 'demand', 'oecd', 'highlight', 'current', 'depressed', 'household', 'expenditure', 'germany', 'eurozone', 'overreliance', 'exportle', 'growth']\n"
          ],
          "name": "stdout"
        }
      ]
    },
    {
      "cell_type": "markdown",
      "metadata": {
        "id": "Kmo1HtyczIAo"
      },
      "source": [
        "#### 단어 빈도에 따라 시각화"
      ]
    },
    {
      "cell_type": "code",
      "metadata": {
        "colab": {
          "base_uri": "https://localhost:8080/"
        },
        "id": "Qw9wBnBgzC_O",
        "outputId": "1664c36a-a460-49cc-8e1f-de41223f671e"
      },
      "source": [
        "from collections import Counter\n",
        "word_counts = Counter()\n",
        "df['Tokens'].apply(lambda x: word_counts.update(x))\n",
        "word_counts.most_common(10)"
      ],
      "execution_count": 25,
      "outputs": [
        {
          "output_type": "execute_result",
          "data": {
            "text/plain": [
              "[('people', 2041),\n",
              " ('game', 1464),\n",
              " ('win', 1424),\n",
              " ('not', 1263),\n",
              " ('world', 1214),\n",
              " ('come', 1192),\n",
              " ('government', 1189),\n",
              " ('play', 1159),\n",
              " ('film', 1122),\n",
              " ('go', 1111)]"
            ]
          },
          "metadata": {
            "tags": []
          },
          "execution_count": 25
        }
      ]
    },
    {
      "cell_type": "code",
      "metadata": {
        "id": "ICWgWcZv8V1H"
      },
      "source": [
        "def word_count(docs):\n",
        "   \n",
        "    # 전체 코퍼스에서 단어 빈도 카운트\n",
        "    word_counts = Counter()\n",
        "\n",
        "    # 단어가 존재하는 문서의 빈도 카운트, 단어가 한 번 이상 존재하면 +1\n",
        "    word_in_docs = Counter()\n",
        "\n",
        "    # 전체 문서의 갯수\n",
        "    total_docs = len(docs)\n",
        "\n",
        "    for doc in docs:\n",
        "        word_counts.update(doc)\n",
        "        word_in_docs.update(set(doc))\n",
        "\n",
        "    temp = zip(word_counts.keys(), word_counts.values())\n",
        "\n",
        "    wc = pd.DataFrame(temp, columns = ['word', 'count'])\n",
        "\n",
        "    # 단어의 순위\n",
        "    # method='first': 같은 값의 경우 먼저나온 요소를 우선\n",
        "    wc['rank'] = wc['count'].rank(method='first', ascending=False)\n",
        "    total = wc['count'].sum()\n",
        "\n",
        "    # 코퍼스 내 단어의 비율\n",
        "    wc['percent'] = wc['count'].apply(lambda x: x / total)\n",
        "\n",
        "    wc = wc.sort_values(by='rank')\n",
        "\n",
        "    # 누적 비율\n",
        "    # cumsum() : cumulative sum\n",
        "    wc['cul_percent'] = wc['percent'].cumsum()\n",
        "\n",
        "    temp2 = zip(word_in_docs.keys(), word_in_docs.values())\n",
        "    ac = pd.DataFrame(temp2, columns=['word', 'word_in_docs'])\n",
        "    wc = ac.merge(wc, on='word')\n",
        "    \n",
        "    # 전체 문서 중 존재하는 비율\n",
        "    wc['word_in_docs_percent'] = wc['word_in_docs'].apply(lambda x: x / total_docs)\n",
        "\n",
        "    return wc.sort_values(by='rank')"
      ],
      "execution_count": 26,
      "outputs": []
    },
    {
      "cell_type": "code",
      "metadata": {
        "colab": {
          "base_uri": "https://localhost:8080/",
          "height": 204
        },
        "id": "uM-VGrJK8koe",
        "outputId": "d89e9b5e-7c88-47b1-d870-bfdc0afe3131"
      },
      "source": [
        "wc = word_count(df['Tokens'])\n",
        "wc.head(5)"
      ],
      "execution_count": 27,
      "outputs": [
        {
          "output_type": "execute_result",
          "data": {
            "text/html": [
              "<div>\n",
              "<style scoped>\n",
              "    .dataframe tbody tr th:only-of-type {\n",
              "        vertical-align: middle;\n",
              "    }\n",
              "\n",
              "    .dataframe tbody tr th {\n",
              "        vertical-align: top;\n",
              "    }\n",
              "\n",
              "    .dataframe thead th {\n",
              "        text-align: right;\n",
              "    }\n",
              "</style>\n",
              "<table border=\"1\" class=\"dataframe\">\n",
              "  <thead>\n",
              "    <tr style=\"text-align: right;\">\n",
              "      <th></th>\n",
              "      <th>word</th>\n",
              "      <th>word_in_docs</th>\n",
              "      <th>count</th>\n",
              "      <th>rank</th>\n",
              "      <th>percent</th>\n",
              "      <th>cul_percent</th>\n",
              "      <th>word_in_docs_percent</th>\n",
              "    </tr>\n",
              "  </thead>\n",
              "  <tbody>\n",
              "    <tr>\n",
              "      <th>846</th>\n",
              "      <td>people</td>\n",
              "      <td>795</td>\n",
              "      <td>2041</td>\n",
              "      <td>1.0</td>\n",
              "      <td>0.004945</td>\n",
              "      <td>0.004945</td>\n",
              "      <td>0.357303</td>\n",
              "    </tr>\n",
              "    <tr>\n",
              "      <th>1465</th>\n",
              "      <td>game</td>\n",
              "      <td>441</td>\n",
              "      <td>1464</td>\n",
              "      <td>2.0</td>\n",
              "      <td>0.003547</td>\n",
              "      <td>0.008492</td>\n",
              "      <td>0.198202</td>\n",
              "    </tr>\n",
              "    <tr>\n",
              "      <th>1149</th>\n",
              "      <td>win</td>\n",
              "      <td>622</td>\n",
              "      <td>1424</td>\n",
              "      <td>3.0</td>\n",
              "      <td>0.003450</td>\n",
              "      <td>0.011942</td>\n",
              "      <td>0.279551</td>\n",
              "    </tr>\n",
              "    <tr>\n",
              "      <th>2016</th>\n",
              "      <td>not</td>\n",
              "      <td>628</td>\n",
              "      <td>1263</td>\n",
              "      <td>4.0</td>\n",
              "      <td>0.003060</td>\n",
              "      <td>0.015002</td>\n",
              "      <td>0.282247</td>\n",
              "    </tr>\n",
              "    <tr>\n",
              "      <th>424</th>\n",
              "      <td>world</td>\n",
              "      <td>668</td>\n",
              "      <td>1214</td>\n",
              "      <td>5.0</td>\n",
              "      <td>0.002941</td>\n",
              "      <td>0.017943</td>\n",
              "      <td>0.300225</td>\n",
              "    </tr>\n",
              "  </tbody>\n",
              "</table>\n",
              "</div>"
            ],
            "text/plain": [
              "        word  word_in_docs  count  ...   percent  cul_percent  word_in_docs_percent\n",
              "846   people           795   2041  ...  0.004945     0.004945              0.357303\n",
              "1465    game           441   1464  ...  0.003547     0.008492              0.198202\n",
              "1149     win           622   1424  ...  0.003450     0.011942              0.279551\n",
              "2016     not           628   1263  ...  0.003060     0.015002              0.282247\n",
              "424    world           668   1214  ...  0.002941     0.017943              0.300225\n",
              "\n",
              "[5 rows x 7 columns]"
            ]
          },
          "metadata": {
            "tags": []
          },
          "execution_count": 27
        }
      ]
    },
    {
      "cell_type": "code",
      "metadata": {
        "colab": {
          "base_uri": "https://localhost:8080/",
          "height": 264
        },
        "id": "xKftOqtz8Qie",
        "outputId": "8c1e99f2-eb5b-4bc5-9a68-1e9b06167467"
      },
      "source": [
        "import squarify\n",
        "import matplotlib.pyplot as plt\n",
        "\n",
        "colors=['springgreen','violet','dodgerblue','gold','wheat','lightcoral',\n",
        "        'mediumslateblue','greenyellow','aquamarine','deeppink']\n",
        "\n",
        "wc_top5 = wc[wc['rank'] <= 10]\n",
        "squarify.plot(sizes=wc_top5['percent'], label=wc_top5['word'], alpha=0.6, color=colors)\n",
        "plt.axis('off')\n",
        "plt.title('Token Top 10')\n",
        "plt.show()"
      ],
      "execution_count": 28,
      "outputs": [
        {
          "output_type": "display_data",
          "data": {
            "image/png": "[encoded data removed]",
            "text/plain": [
              "<Figure size 432x288 with 1 Axes>"
            ]
          },
          "metadata": {
            "tags": [],
            "needs_background": "light"
          }
        }
      ]
    },
    {
      "cell_type": "code",
      "metadata": {
        "colab": {
          "base_uri": "https://localhost:8080/",
          "height": 295
        },
        "id": "0f-zAsvxdSLg",
        "outputId": "7568e594-a2c6-4dd9-e360-6727c73a95d9"
      },
      "source": [
        "sns.set_palette('GnBu')\n",
        "sns.barplot(x=wc['count'][:10],y=wc['word'][:10],orient='h')\n",
        "plt.title('Token Top 10')\n",
        "plt.show()"
      ],
      "execution_count": 29,
      "outputs": [
        {
          "output_type": "display_data",
          "data": {
            "image/png": "[encoded data removed]",
            "text/plain": [
              "<Figure size 432x288 with 1 Axes>"
            ]
          },
          "metadata": {
            "tags": [],
            "needs_background": "light"
          }
        }
      ]
    },
    {
      "cell_type": "markdown",
      "metadata": {
        "id": "q3vkzeqC9wie"
      },
      "source": [
        "#### TfidVectorizer + KNN"
      ]
    },
    {
      "cell_type": "code",
      "metadata": {
        "colab": {
          "base_uri": "https://localhost:8080/",
          "height": 289
        },
        "id": "XvQBRavT90yX",
        "outputId": "20c41711-297a-44c8-98a0-f1cfc95a5c68"
      },
      "source": [
        "from sklearn.feature_extraction.text import TfidfVectorizer\n",
        "\n",
        "tfidf = TfidfVectorizer(stop_words= st_words, max_features=5000)\n",
        "dtm = tfidf.fit_transform(df['Text'])\n",
        "dtm = pd.DataFrame(dtm.todense(), columns=tfidf.get_feature_names())\n",
        "\n",
        "dtm.head()"
      ],
      "execution_count": 30,
      "outputs": [
        {
          "output_type": "stream",
          "text": [
            "/usr/local/lib/python3.7/dist-packages/sklearn/feature_extraction/text.py:385: UserWarning: Your stop_words may be inconsistent with your preprocessing. Tokenizing the stop words generated tokens ['ll', 've'] not in stop_words.\n",
            "  'stop_words.' % sorted(inconsistent))\n"
          ],
          "name": "stderr"
        },
        {
          "output_type": "execute_result",
          "data": {
            "text/html": [
              "<div>\n",
              "<style scoped>\n",
              "    .dataframe tbody tr th:only-of-type {\n",
              "        vertical-align: middle;\n",
              "    }\n",
              "\n",
              "    .dataframe tbody tr th {\n",
              "        vertical-align: top;\n",
              "    }\n",
              "\n",
              "    .dataframe thead th {\n",
              "        text-align: right;\n",
              "    }\n",
              "</style>\n",
              "<table border=\"1\" class=\"dataframe\">\n",
              "  <thead>\n",
              "    <tr style=\"text-align: right;\">\n",
              "      <th></th>\n",
              "      <th>000</th>\n",
              "      <th>000m</th>\n",
              "      <th>05</th>\n",
              "      <th>10</th>\n",
              "      <th>100</th>\n",
              "      <th>100m</th>\n",
              "      <th>102</th>\n",
              "      <th>10bn</th>\n",
              "      <th>10th</th>\n",
              "      <th>11</th>\n",
              "      <th>110</th>\n",
              "      <th>11bn</th>\n",
              "      <th>12</th>\n",
              "      <th>120</th>\n",
              "      <th>13</th>\n",
              "      <th>14</th>\n",
              "      <th>15</th>\n",
              "      <th>150</th>\n",
              "      <th>1500m</th>\n",
              "      <th>16</th>\n",
              "      <th>17</th>\n",
              "      <th>18</th>\n",
              "      <th>19</th>\n",
              "      <th>1960s</th>\n",
              "      <th>1970</th>\n",
              "      <th>1970s</th>\n",
              "      <th>1973</th>\n",
              "      <th>1980s</th>\n",
              "      <th>1981</th>\n",
              "      <th>1983</th>\n",
              "      <th>1984</th>\n",
              "      <th>1985</th>\n",
              "      <th>1987</th>\n",
              "      <th>1989</th>\n",
              "      <th>1990s</th>\n",
              "      <th>1991</th>\n",
              "      <th>1992</th>\n",
              "      <th>1993</th>\n",
              "      <th>1994</th>\n",
              "      <th>1995</th>\n",
              "      <th>...</th>\n",
              "      <th>worried</th>\n",
              "      <th>worries</th>\n",
              "      <th>worry</th>\n",
              "      <th>worrying</th>\n",
              "      <th>worse</th>\n",
              "      <th>worst</th>\n",
              "      <th>worth</th>\n",
              "      <th>wouldn</th>\n",
              "      <th>wright</th>\n",
              "      <th>write</th>\n",
              "      <th>writer</th>\n",
              "      <th>writers</th>\n",
              "      <th>writing</th>\n",
              "      <th>written</th>\n",
              "      <th>wrong</th>\n",
              "      <th>wrote</th>\n",
              "      <th>wto</th>\n",
              "      <th>xbox</th>\n",
              "      <th>xp</th>\n",
              "      <th>yachvili</th>\n",
              "      <th>yahoo</th>\n",
              "      <th>yard</th>\n",
              "      <th>yards</th>\n",
              "      <th>yelling</th>\n",
              "      <th>yen</th>\n",
              "      <th>yes</th>\n",
              "      <th>york</th>\n",
              "      <th>yorkshire</th>\n",
              "      <th>young</th>\n",
              "      <th>younger</th>\n",
              "      <th>youngsters</th>\n",
              "      <th>youth</th>\n",
              "      <th>yuan</th>\n",
              "      <th>yugansk</th>\n",
              "      <th>yuganskneftegas</th>\n",
              "      <th>yukos</th>\n",
              "      <th>yushchenko</th>\n",
              "      <th>zealand</th>\n",
              "      <th>zero</th>\n",
              "      <th>zone</th>\n",
              "    </tr>\n",
              "  </thead>\n",
              "  <tbody>\n",
              "    <tr>\n",
              "      <th>0</th>\n",
              "      <td>0.028497</td>\n",
              "      <td>0.0</td>\n",
              "      <td>0.0</td>\n",
              "      <td>0.029905</td>\n",
              "      <td>0.0</td>\n",
              "      <td>0.0</td>\n",
              "      <td>0.0</td>\n",
              "      <td>0.0</td>\n",
              "      <td>0.0</td>\n",
              "      <td>0.038506</td>\n",
              "      <td>0.0</td>\n",
              "      <td>0.0</td>\n",
              "      <td>0.0</td>\n",
              "      <td>0.0</td>\n",
              "      <td>0.000000</td>\n",
              "      <td>0.0</td>\n",
              "      <td>0.0</td>\n",
              "      <td>0.0</td>\n",
              "      <td>0.0</td>\n",
              "      <td>0.0</td>\n",
              "      <td>0.0</td>\n",
              "      <td>0.0</td>\n",
              "      <td>0.0</td>\n",
              "      <td>0.0</td>\n",
              "      <td>0.0</td>\n",
              "      <td>0.0</td>\n",
              "      <td>0.0</td>\n",
              "      <td>0.0</td>\n",
              "      <td>0.0</td>\n",
              "      <td>0.0</td>\n",
              "      <td>0.0</td>\n",
              "      <td>0.0</td>\n",
              "      <td>0.0</td>\n",
              "      <td>0.0</td>\n",
              "      <td>0.0</td>\n",
              "      <td>0.0</td>\n",
              "      <td>0.0</td>\n",
              "      <td>0.0</td>\n",
              "      <td>0.0</td>\n",
              "      <td>0.0</td>\n",
              "      <td>...</td>\n",
              "      <td>0.0</td>\n",
              "      <td>0.000000</td>\n",
              "      <td>0.0</td>\n",
              "      <td>0.0</td>\n",
              "      <td>0.000000</td>\n",
              "      <td>0.0</td>\n",
              "      <td>0.0</td>\n",
              "      <td>0.0</td>\n",
              "      <td>0.0</td>\n",
              "      <td>0.0</td>\n",
              "      <td>0.0</td>\n",
              "      <td>0.0</td>\n",
              "      <td>0.0</td>\n",
              "      <td>0.0</td>\n",
              "      <td>0.0</td>\n",
              "      <td>0.0</td>\n",
              "      <td>0.0</td>\n",
              "      <td>0.0</td>\n",
              "      <td>0.0</td>\n",
              "      <td>0.0</td>\n",
              "      <td>0.0</td>\n",
              "      <td>0.0</td>\n",
              "      <td>0.0</td>\n",
              "      <td>0.0</td>\n",
              "      <td>0.0</td>\n",
              "      <td>0.0</td>\n",
              "      <td>0.000000</td>\n",
              "      <td>0.0</td>\n",
              "      <td>0.0</td>\n",
              "      <td>0.0</td>\n",
              "      <td>0.0</td>\n",
              "      <td>0.0</td>\n",
              "      <td>0.0</td>\n",
              "      <td>0.000000</td>\n",
              "      <td>0.0</td>\n",
              "      <td>0.000000</td>\n",
              "      <td>0.0</td>\n",
              "      <td>0.0</td>\n",
              "      <td>0.0</td>\n",
              "      <td>0.0</td>\n",
              "    </tr>\n",
              "    <tr>\n",
              "      <th>1</th>\n",
              "      <td>0.000000</td>\n",
              "      <td>0.0</td>\n",
              "      <td>0.0</td>\n",
              "      <td>0.000000</td>\n",
              "      <td>0.0</td>\n",
              "      <td>0.0</td>\n",
              "      <td>0.0</td>\n",
              "      <td>0.0</td>\n",
              "      <td>0.0</td>\n",
              "      <td>0.000000</td>\n",
              "      <td>0.0</td>\n",
              "      <td>0.0</td>\n",
              "      <td>0.0</td>\n",
              "      <td>0.0</td>\n",
              "      <td>0.000000</td>\n",
              "      <td>0.0</td>\n",
              "      <td>0.0</td>\n",
              "      <td>0.0</td>\n",
              "      <td>0.0</td>\n",
              "      <td>0.0</td>\n",
              "      <td>0.0</td>\n",
              "      <td>0.0</td>\n",
              "      <td>0.0</td>\n",
              "      <td>0.0</td>\n",
              "      <td>0.0</td>\n",
              "      <td>0.0</td>\n",
              "      <td>0.0</td>\n",
              "      <td>0.0</td>\n",
              "      <td>0.0</td>\n",
              "      <td>0.0</td>\n",
              "      <td>0.0</td>\n",
              "      <td>0.0</td>\n",
              "      <td>0.0</td>\n",
              "      <td>0.0</td>\n",
              "      <td>0.0</td>\n",
              "      <td>0.0</td>\n",
              "      <td>0.0</td>\n",
              "      <td>0.0</td>\n",
              "      <td>0.0</td>\n",
              "      <td>0.0</td>\n",
              "      <td>...</td>\n",
              "      <td>0.0</td>\n",
              "      <td>0.065307</td>\n",
              "      <td>0.0</td>\n",
              "      <td>0.0</td>\n",
              "      <td>0.059999</td>\n",
              "      <td>0.0</td>\n",
              "      <td>0.0</td>\n",
              "      <td>0.0</td>\n",
              "      <td>0.0</td>\n",
              "      <td>0.0</td>\n",
              "      <td>0.0</td>\n",
              "      <td>0.0</td>\n",
              "      <td>0.0</td>\n",
              "      <td>0.0</td>\n",
              "      <td>0.0</td>\n",
              "      <td>0.0</td>\n",
              "      <td>0.0</td>\n",
              "      <td>0.0</td>\n",
              "      <td>0.0</td>\n",
              "      <td>0.0</td>\n",
              "      <td>0.0</td>\n",
              "      <td>0.0</td>\n",
              "      <td>0.0</td>\n",
              "      <td>0.0</td>\n",
              "      <td>0.0</td>\n",
              "      <td>0.0</td>\n",
              "      <td>0.095496</td>\n",
              "      <td>0.0</td>\n",
              "      <td>0.0</td>\n",
              "      <td>0.0</td>\n",
              "      <td>0.0</td>\n",
              "      <td>0.0</td>\n",
              "      <td>0.0</td>\n",
              "      <td>0.000000</td>\n",
              "      <td>0.0</td>\n",
              "      <td>0.000000</td>\n",
              "      <td>0.0</td>\n",
              "      <td>0.0</td>\n",
              "      <td>0.0</td>\n",
              "      <td>0.0</td>\n",
              "    </tr>\n",
              "    <tr>\n",
              "      <th>2</th>\n",
              "      <td>0.000000</td>\n",
              "      <td>0.0</td>\n",
              "      <td>0.0</td>\n",
              "      <td>0.000000</td>\n",
              "      <td>0.0</td>\n",
              "      <td>0.0</td>\n",
              "      <td>0.0</td>\n",
              "      <td>0.0</td>\n",
              "      <td>0.0</td>\n",
              "      <td>0.000000</td>\n",
              "      <td>0.0</td>\n",
              "      <td>0.0</td>\n",
              "      <td>0.0</td>\n",
              "      <td>0.0</td>\n",
              "      <td>0.000000</td>\n",
              "      <td>0.0</td>\n",
              "      <td>0.0</td>\n",
              "      <td>0.0</td>\n",
              "      <td>0.0</td>\n",
              "      <td>0.0</td>\n",
              "      <td>0.0</td>\n",
              "      <td>0.0</td>\n",
              "      <td>0.0</td>\n",
              "      <td>0.0</td>\n",
              "      <td>0.0</td>\n",
              "      <td>0.0</td>\n",
              "      <td>0.0</td>\n",
              "      <td>0.0</td>\n",
              "      <td>0.0</td>\n",
              "      <td>0.0</td>\n",
              "      <td>0.0</td>\n",
              "      <td>0.0</td>\n",
              "      <td>0.0</td>\n",
              "      <td>0.0</td>\n",
              "      <td>0.0</td>\n",
              "      <td>0.0</td>\n",
              "      <td>0.0</td>\n",
              "      <td>0.0</td>\n",
              "      <td>0.0</td>\n",
              "      <td>0.0</td>\n",
              "      <td>...</td>\n",
              "      <td>0.0</td>\n",
              "      <td>0.000000</td>\n",
              "      <td>0.0</td>\n",
              "      <td>0.0</td>\n",
              "      <td>0.000000</td>\n",
              "      <td>0.0</td>\n",
              "      <td>0.0</td>\n",
              "      <td>0.0</td>\n",
              "      <td>0.0</td>\n",
              "      <td>0.0</td>\n",
              "      <td>0.0</td>\n",
              "      <td>0.0</td>\n",
              "      <td>0.0</td>\n",
              "      <td>0.0</td>\n",
              "      <td>0.0</td>\n",
              "      <td>0.0</td>\n",
              "      <td>0.0</td>\n",
              "      <td>0.0</td>\n",
              "      <td>0.0</td>\n",
              "      <td>0.0</td>\n",
              "      <td>0.0</td>\n",
              "      <td>0.0</td>\n",
              "      <td>0.0</td>\n",
              "      <td>0.0</td>\n",
              "      <td>0.0</td>\n",
              "      <td>0.0</td>\n",
              "      <td>0.000000</td>\n",
              "      <td>0.0</td>\n",
              "      <td>0.0</td>\n",
              "      <td>0.0</td>\n",
              "      <td>0.0</td>\n",
              "      <td>0.0</td>\n",
              "      <td>0.0</td>\n",
              "      <td>0.420712</td>\n",
              "      <td>0.0</td>\n",
              "      <td>0.372661</td>\n",
              "      <td>0.0</td>\n",
              "      <td>0.0</td>\n",
              "      <td>0.0</td>\n",
              "      <td>0.0</td>\n",
              "    </tr>\n",
              "    <tr>\n",
              "      <th>3</th>\n",
              "      <td>0.021711</td>\n",
              "      <td>0.0</td>\n",
              "      <td>0.0</td>\n",
              "      <td>0.022784</td>\n",
              "      <td>0.0</td>\n",
              "      <td>0.0</td>\n",
              "      <td>0.0</td>\n",
              "      <td>0.0</td>\n",
              "      <td>0.0</td>\n",
              "      <td>0.029337</td>\n",
              "      <td>0.0</td>\n",
              "      <td>0.0</td>\n",
              "      <td>0.0</td>\n",
              "      <td>0.0</td>\n",
              "      <td>0.032392</td>\n",
              "      <td>0.0</td>\n",
              "      <td>0.0</td>\n",
              "      <td>0.0</td>\n",
              "      <td>0.0</td>\n",
              "      <td>0.0</td>\n",
              "      <td>0.0</td>\n",
              "      <td>0.0</td>\n",
              "      <td>0.0</td>\n",
              "      <td>0.0</td>\n",
              "      <td>0.0</td>\n",
              "      <td>0.0</td>\n",
              "      <td>0.0</td>\n",
              "      <td>0.0</td>\n",
              "      <td>0.0</td>\n",
              "      <td>0.0</td>\n",
              "      <td>0.0</td>\n",
              "      <td>0.0</td>\n",
              "      <td>0.0</td>\n",
              "      <td>0.0</td>\n",
              "      <td>0.0</td>\n",
              "      <td>0.0</td>\n",
              "      <td>0.0</td>\n",
              "      <td>0.0</td>\n",
              "      <td>0.0</td>\n",
              "      <td>0.0</td>\n",
              "      <td>...</td>\n",
              "      <td>0.0</td>\n",
              "      <td>0.000000</td>\n",
              "      <td>0.0</td>\n",
              "      <td>0.0</td>\n",
              "      <td>0.000000</td>\n",
              "      <td>0.0</td>\n",
              "      <td>0.0</td>\n",
              "      <td>0.0</td>\n",
              "      <td>0.0</td>\n",
              "      <td>0.0</td>\n",
              "      <td>0.0</td>\n",
              "      <td>0.0</td>\n",
              "      <td>0.0</td>\n",
              "      <td>0.0</td>\n",
              "      <td>0.0</td>\n",
              "      <td>0.0</td>\n",
              "      <td>0.0</td>\n",
              "      <td>0.0</td>\n",
              "      <td>0.0</td>\n",
              "      <td>0.0</td>\n",
              "      <td>0.0</td>\n",
              "      <td>0.0</td>\n",
              "      <td>0.0</td>\n",
              "      <td>0.0</td>\n",
              "      <td>0.0</td>\n",
              "      <td>0.0</td>\n",
              "      <td>0.000000</td>\n",
              "      <td>0.0</td>\n",
              "      <td>0.0</td>\n",
              "      <td>0.0</td>\n",
              "      <td>0.0</td>\n",
              "      <td>0.0</td>\n",
              "      <td>0.0</td>\n",
              "      <td>0.000000</td>\n",
              "      <td>0.0</td>\n",
              "      <td>0.000000</td>\n",
              "      <td>0.0</td>\n",
              "      <td>0.0</td>\n",
              "      <td>0.0</td>\n",
              "      <td>0.0</td>\n",
              "    </tr>\n",
              "    <tr>\n",
              "      <th>4</th>\n",
              "      <td>0.000000</td>\n",
              "      <td>0.0</td>\n",
              "      <td>0.0</td>\n",
              "      <td>0.052154</td>\n",
              "      <td>0.0</td>\n",
              "      <td>0.0</td>\n",
              "      <td>0.0</td>\n",
              "      <td>0.0</td>\n",
              "      <td>0.0</td>\n",
              "      <td>0.000000</td>\n",
              "      <td>0.0</td>\n",
              "      <td>0.0</td>\n",
              "      <td>0.0</td>\n",
              "      <td>0.0</td>\n",
              "      <td>0.000000</td>\n",
              "      <td>0.0</td>\n",
              "      <td>0.0</td>\n",
              "      <td>0.0</td>\n",
              "      <td>0.0</td>\n",
              "      <td>0.0</td>\n",
              "      <td>0.0</td>\n",
              "      <td>0.0</td>\n",
              "      <td>0.0</td>\n",
              "      <td>0.0</td>\n",
              "      <td>0.0</td>\n",
              "      <td>0.0</td>\n",
              "      <td>0.0</td>\n",
              "      <td>0.0</td>\n",
              "      <td>0.0</td>\n",
              "      <td>0.0</td>\n",
              "      <td>0.0</td>\n",
              "      <td>0.0</td>\n",
              "      <td>0.0</td>\n",
              "      <td>0.0</td>\n",
              "      <td>0.0</td>\n",
              "      <td>0.0</td>\n",
              "      <td>0.0</td>\n",
              "      <td>0.0</td>\n",
              "      <td>0.0</td>\n",
              "      <td>0.0</td>\n",
              "      <td>...</td>\n",
              "      <td>0.0</td>\n",
              "      <td>0.000000</td>\n",
              "      <td>0.0</td>\n",
              "      <td>0.0</td>\n",
              "      <td>0.000000</td>\n",
              "      <td>0.0</td>\n",
              "      <td>0.0</td>\n",
              "      <td>0.0</td>\n",
              "      <td>0.0</td>\n",
              "      <td>0.0</td>\n",
              "      <td>0.0</td>\n",
              "      <td>0.0</td>\n",
              "      <td>0.0</td>\n",
              "      <td>0.0</td>\n",
              "      <td>0.0</td>\n",
              "      <td>0.0</td>\n",
              "      <td>0.0</td>\n",
              "      <td>0.0</td>\n",
              "      <td>0.0</td>\n",
              "      <td>0.0</td>\n",
              "      <td>0.0</td>\n",
              "      <td>0.0</td>\n",
              "      <td>0.0</td>\n",
              "      <td>0.0</td>\n",
              "      <td>0.0</td>\n",
              "      <td>0.0</td>\n",
              "      <td>0.000000</td>\n",
              "      <td>0.0</td>\n",
              "      <td>0.0</td>\n",
              "      <td>0.0</td>\n",
              "      <td>0.0</td>\n",
              "      <td>0.0</td>\n",
              "      <td>0.0</td>\n",
              "      <td>0.000000</td>\n",
              "      <td>0.0</td>\n",
              "      <td>0.000000</td>\n",
              "      <td>0.0</td>\n",
              "      <td>0.0</td>\n",
              "      <td>0.0</td>\n",
              "      <td>0.0</td>\n",
              "    </tr>\n",
              "  </tbody>\n",
              "</table>\n",
              "<p>5 rows × 5000 columns</p>\n",
              "</div>"
            ],
            "text/plain": [
              "        000  000m   05        10  ...  yushchenko  zealand  zero  zone\n",
              "0  0.028497   0.0  0.0  0.029905  ...         0.0      0.0   0.0   0.0\n",
              "1  0.000000   0.0  0.0  0.000000  ...         0.0      0.0   0.0   0.0\n",
              "2  0.000000   0.0  0.0  0.000000  ...         0.0      0.0   0.0   0.0\n",
              "3  0.021711   0.0  0.0  0.022784  ...         0.0      0.0   0.0   0.0\n",
              "4  0.000000   0.0  0.0  0.052154  ...         0.0      0.0   0.0   0.0\n",
              "\n",
              "[5 rows x 5000 columns]"
            ]
          },
          "metadata": {
            "tags": []
          },
          "execution_count": 30
        }
      ]
    },
    {
      "cell_type": "code",
      "metadata": {
        "id": "8UlOT9uz-HO7"
      },
      "source": [
        "def tokenize(document):\n",
        "    \n",
        "    doc = nlp(document)\n",
        "    \n",
        "    return [token.lemma_.strip() for token in doc if (token.is_stop != True) and (token.is_punct != True) and (token.is_alpha == True)]"
      ],
      "execution_count": 31,
      "outputs": []
    },
    {
      "cell_type": "code",
      "metadata": {
        "colab": {
          "base_uri": "https://localhost:8080/",
          "height": 306
        },
        "id": "b3PtWpcc-LiG",
        "outputId": "28759053-11dd-455d-f1e1-3056db5874cd"
      },
      "source": [
        "tfidf = TfidfVectorizer(stop_words=st_words\n",
        "                        ,tokenizer=tokenize\n",
        "                        ,ngram_range=(1,2)\n",
        "                        ,max_df=.7\n",
        "                        ,min_df=3\n",
        "                       )\n",
        "\n",
        "dtm = tfidf.fit_transform(df['Text'])\n",
        "dtm = pd.DataFrame(dtm.todense(), columns=tfidf.get_feature_names())\n",
        "dtm.head()"
      ],
      "execution_count": 32,
      "outputs": [
        {
          "output_type": "stream",
          "text": [
            "/usr/local/lib/python3.7/dist-packages/sklearn/feature_extraction/text.py:385: UserWarning: Your stop_words may be inconsistent with your preprocessing. Tokenizing the stop words generated tokens ['d', 'good', 'tell', 've'] not in stop_words.\n",
            "  'stop_words.' % sorted(inconsistent))\n"
          ],
          "name": "stderr"
        },
        {
          "output_type": "execute_result",
          "data": {
            "text/html": [
              "<div>\n",
              "<style scoped>\n",
              "    .dataframe tbody tr th:only-of-type {\n",
              "        vertical-align: middle;\n",
              "    }\n",
              "\n",
              "    .dataframe tbody tr th {\n",
              "        vertical-align: top;\n",
              "    }\n",
              "\n",
              "    .dataframe thead th {\n",
              "        text-align: right;\n",
              "    }\n",
              "</style>\n",
              "<table border=\"1\" class=\"dataframe\">\n",
              "  <thead>\n",
              "    <tr style=\"text-align: right;\">\n",
              "      <th></th>\n",
              "      <th>-PRON-</th>\n",
              "      <th>aaa</th>\n",
              "      <th>aaas</th>\n",
              "      <th>aaas title</th>\n",
              "      <th>aaron</th>\n",
              "      <th>abandon</th>\n",
              "      <th>abandon plan</th>\n",
              "      <th>abandonment</th>\n",
              "      <th>abate</th>\n",
              "      <th>abba</th>\n",
              "      <th>abbas</th>\n",
              "      <th>abbasi</th>\n",
              "      <th>abbasi mubanga</th>\n",
              "      <th>abbott</th>\n",
              "      <th>abc</th>\n",
              "      <th>abc network</th>\n",
              "      <th>aberdeen</th>\n",
              "      <th>abeyie</th>\n",
              "      <th>abide</th>\n",
              "      <th>abide member</th>\n",
              "      <th>ability</th>\n",
              "      <th>ability control</th>\n",
              "      <th>ability game</th>\n",
              "      <th>ability influence</th>\n",
              "      <th>ability record</th>\n",
              "      <th>able</th>\n",
              "      <th>able access</th>\n",
              "      <th>able buy</th>\n",
              "      <th>able choose</th>\n",
              "      <th>able control</th>\n",
              "      <th>able deliver</th>\n",
              "      <th>able download</th>\n",
              "      <th>able handle</th>\n",
              "      <th>able offer</th>\n",
              "      <th>able play</th>\n",
              "      <th>able sell</th>\n",
              "      <th>able spend</th>\n",
              "      <th>able start</th>\n",
              "      <th>able store</th>\n",
              "      <th>able tell</th>\n",
              "      <th>...</th>\n",
              "      <th>yulia tymoshenko</th>\n",
              "      <th>yushchenko</th>\n",
              "      <th>yusuf</th>\n",
              "      <th>z</th>\n",
              "      <th>zach</th>\n",
              "      <th>zach braff</th>\n",
              "      <th>zajec</th>\n",
              "      <th>zambia</th>\n",
              "      <th>zealand</th>\n",
              "      <th>zealand australia</th>\n",
              "      <th>zealand lion</th>\n",
              "      <th>zealand rugby</th>\n",
              "      <th>zealand summer</th>\n",
              "      <th>zealand world</th>\n",
              "      <th>zealander</th>\n",
              "      <th>zelda</th>\n",
              "      <th>zellweger</th>\n",
              "      <th>zen</th>\n",
              "      <th>zen micro</th>\n",
              "      <th>zeppelin</th>\n",
              "      <th>zero</th>\n",
              "      <th>zero tolerance</th>\n",
              "      <th>zeta</th>\n",
              "      <th>zeta jones</th>\n",
              "      <th>zhang</th>\n",
              "      <th>zheng</th>\n",
              "      <th>zidane</th>\n",
              "      <th>zimbabwe</th>\n",
              "      <th>zimbabwe burma</th>\n",
              "      <th>zinc</th>\n",
              "      <th>ziyi</th>\n",
              "      <th>ziyi zhang</th>\n",
              "      <th>zoe</th>\n",
              "      <th>zola</th>\n",
              "      <th>zombie</th>\n",
              "      <th>zombie bot</th>\n",
              "      <th>zone</th>\n",
              "      <th>zoom</th>\n",
              "      <th>zurich</th>\n",
              "      <th>zurich premiership</th>\n",
              "    </tr>\n",
              "  </thead>\n",
              "  <tbody>\n",
              "    <tr>\n",
              "      <th>0</th>\n",
              "      <td>0.0</td>\n",
              "      <td>0.0</td>\n",
              "      <td>0.0</td>\n",
              "      <td>0.0</td>\n",
              "      <td>0.0</td>\n",
              "      <td>0.0</td>\n",
              "      <td>0.0</td>\n",
              "      <td>0.0</td>\n",
              "      <td>0.0</td>\n",
              "      <td>0.0</td>\n",
              "      <td>0.0</td>\n",
              "      <td>0.0</td>\n",
              "      <td>0.0</td>\n",
              "      <td>0.0</td>\n",
              "      <td>0.0</td>\n",
              "      <td>0.0</td>\n",
              "      <td>0.0</td>\n",
              "      <td>0.0</td>\n",
              "      <td>0.0</td>\n",
              "      <td>0.0</td>\n",
              "      <td>0.0</td>\n",
              "      <td>0.0</td>\n",
              "      <td>0.0</td>\n",
              "      <td>0.0</td>\n",
              "      <td>0.0</td>\n",
              "      <td>0.0</td>\n",
              "      <td>0.0</td>\n",
              "      <td>0.0</td>\n",
              "      <td>0.0</td>\n",
              "      <td>0.0</td>\n",
              "      <td>0.0</td>\n",
              "      <td>0.0</td>\n",
              "      <td>0.0</td>\n",
              "      <td>0.0</td>\n",
              "      <td>0.0</td>\n",
              "      <td>0.0</td>\n",
              "      <td>0.0</td>\n",
              "      <td>0.0</td>\n",
              "      <td>0.0</td>\n",
              "      <td>0.0</td>\n",
              "      <td>...</td>\n",
              "      <td>0.0</td>\n",
              "      <td>0.0</td>\n",
              "      <td>0.0</td>\n",
              "      <td>0.0</td>\n",
              "      <td>0.0</td>\n",
              "      <td>0.0</td>\n",
              "      <td>0.0</td>\n",
              "      <td>0.0</td>\n",
              "      <td>0.0</td>\n",
              "      <td>0.0</td>\n",
              "      <td>0.0</td>\n",
              "      <td>0.0</td>\n",
              "      <td>0.0</td>\n",
              "      <td>0.0</td>\n",
              "      <td>0.0</td>\n",
              "      <td>0.0</td>\n",
              "      <td>0.0</td>\n",
              "      <td>0.0</td>\n",
              "      <td>0.0</td>\n",
              "      <td>0.0</td>\n",
              "      <td>0.0</td>\n",
              "      <td>0.0</td>\n",
              "      <td>0.0</td>\n",
              "      <td>0.0</td>\n",
              "      <td>0.0</td>\n",
              "      <td>0.0</td>\n",
              "      <td>0.0</td>\n",
              "      <td>0.0</td>\n",
              "      <td>0.0</td>\n",
              "      <td>0.0</td>\n",
              "      <td>0.0</td>\n",
              "      <td>0.0</td>\n",
              "      <td>0.0</td>\n",
              "      <td>0.0</td>\n",
              "      <td>0.0</td>\n",
              "      <td>0.0</td>\n",
              "      <td>0.0</td>\n",
              "      <td>0.0</td>\n",
              "      <td>0.0</td>\n",
              "      <td>0.0</td>\n",
              "    </tr>\n",
              "    <tr>\n",
              "      <th>1</th>\n",
              "      <td>0.0</td>\n",
              "      <td>0.0</td>\n",
              "      <td>0.0</td>\n",
              "      <td>0.0</td>\n",
              "      <td>0.0</td>\n",
              "      <td>0.0</td>\n",
              "      <td>0.0</td>\n",
              "      <td>0.0</td>\n",
              "      <td>0.0</td>\n",
              "      <td>0.0</td>\n",
              "      <td>0.0</td>\n",
              "      <td>0.0</td>\n",
              "      <td>0.0</td>\n",
              "      <td>0.0</td>\n",
              "      <td>0.0</td>\n",
              "      <td>0.0</td>\n",
              "      <td>0.0</td>\n",
              "      <td>0.0</td>\n",
              "      <td>0.0</td>\n",
              "      <td>0.0</td>\n",
              "      <td>0.0</td>\n",
              "      <td>0.0</td>\n",
              "      <td>0.0</td>\n",
              "      <td>0.0</td>\n",
              "      <td>0.0</td>\n",
              "      <td>0.0</td>\n",
              "      <td>0.0</td>\n",
              "      <td>0.0</td>\n",
              "      <td>0.0</td>\n",
              "      <td>0.0</td>\n",
              "      <td>0.0</td>\n",
              "      <td>0.0</td>\n",
              "      <td>0.0</td>\n",
              "      <td>0.0</td>\n",
              "      <td>0.0</td>\n",
              "      <td>0.0</td>\n",
              "      <td>0.0</td>\n",
              "      <td>0.0</td>\n",
              "      <td>0.0</td>\n",
              "      <td>0.0</td>\n",
              "      <td>...</td>\n",
              "      <td>0.0</td>\n",
              "      <td>0.0</td>\n",
              "      <td>0.0</td>\n",
              "      <td>0.0</td>\n",
              "      <td>0.0</td>\n",
              "      <td>0.0</td>\n",
              "      <td>0.0</td>\n",
              "      <td>0.0</td>\n",
              "      <td>0.0</td>\n",
              "      <td>0.0</td>\n",
              "      <td>0.0</td>\n",
              "      <td>0.0</td>\n",
              "      <td>0.0</td>\n",
              "      <td>0.0</td>\n",
              "      <td>0.0</td>\n",
              "      <td>0.0</td>\n",
              "      <td>0.0</td>\n",
              "      <td>0.0</td>\n",
              "      <td>0.0</td>\n",
              "      <td>0.0</td>\n",
              "      <td>0.0</td>\n",
              "      <td>0.0</td>\n",
              "      <td>0.0</td>\n",
              "      <td>0.0</td>\n",
              "      <td>0.0</td>\n",
              "      <td>0.0</td>\n",
              "      <td>0.0</td>\n",
              "      <td>0.0</td>\n",
              "      <td>0.0</td>\n",
              "      <td>0.0</td>\n",
              "      <td>0.0</td>\n",
              "      <td>0.0</td>\n",
              "      <td>0.0</td>\n",
              "      <td>0.0</td>\n",
              "      <td>0.0</td>\n",
              "      <td>0.0</td>\n",
              "      <td>0.0</td>\n",
              "      <td>0.0</td>\n",
              "      <td>0.0</td>\n",
              "      <td>0.0</td>\n",
              "    </tr>\n",
              "    <tr>\n",
              "      <th>2</th>\n",
              "      <td>0.0</td>\n",
              "      <td>0.0</td>\n",
              "      <td>0.0</td>\n",
              "      <td>0.0</td>\n",
              "      <td>0.0</td>\n",
              "      <td>0.0</td>\n",
              "      <td>0.0</td>\n",
              "      <td>0.0</td>\n",
              "      <td>0.0</td>\n",
              "      <td>0.0</td>\n",
              "      <td>0.0</td>\n",
              "      <td>0.0</td>\n",
              "      <td>0.0</td>\n",
              "      <td>0.0</td>\n",
              "      <td>0.0</td>\n",
              "      <td>0.0</td>\n",
              "      <td>0.0</td>\n",
              "      <td>0.0</td>\n",
              "      <td>0.0</td>\n",
              "      <td>0.0</td>\n",
              "      <td>0.0</td>\n",
              "      <td>0.0</td>\n",
              "      <td>0.0</td>\n",
              "      <td>0.0</td>\n",
              "      <td>0.0</td>\n",
              "      <td>0.0</td>\n",
              "      <td>0.0</td>\n",
              "      <td>0.0</td>\n",
              "      <td>0.0</td>\n",
              "      <td>0.0</td>\n",
              "      <td>0.0</td>\n",
              "      <td>0.0</td>\n",
              "      <td>0.0</td>\n",
              "      <td>0.0</td>\n",
              "      <td>0.0</td>\n",
              "      <td>0.0</td>\n",
              "      <td>0.0</td>\n",
              "      <td>0.0</td>\n",
              "      <td>0.0</td>\n",
              "      <td>0.0</td>\n",
              "      <td>...</td>\n",
              "      <td>0.0</td>\n",
              "      <td>0.0</td>\n",
              "      <td>0.0</td>\n",
              "      <td>0.0</td>\n",
              "      <td>0.0</td>\n",
              "      <td>0.0</td>\n",
              "      <td>0.0</td>\n",
              "      <td>0.0</td>\n",
              "      <td>0.0</td>\n",
              "      <td>0.0</td>\n",
              "      <td>0.0</td>\n",
              "      <td>0.0</td>\n",
              "      <td>0.0</td>\n",
              "      <td>0.0</td>\n",
              "      <td>0.0</td>\n",
              "      <td>0.0</td>\n",
              "      <td>0.0</td>\n",
              "      <td>0.0</td>\n",
              "      <td>0.0</td>\n",
              "      <td>0.0</td>\n",
              "      <td>0.0</td>\n",
              "      <td>0.0</td>\n",
              "      <td>0.0</td>\n",
              "      <td>0.0</td>\n",
              "      <td>0.0</td>\n",
              "      <td>0.0</td>\n",
              "      <td>0.0</td>\n",
              "      <td>0.0</td>\n",
              "      <td>0.0</td>\n",
              "      <td>0.0</td>\n",
              "      <td>0.0</td>\n",
              "      <td>0.0</td>\n",
              "      <td>0.0</td>\n",
              "      <td>0.0</td>\n",
              "      <td>0.0</td>\n",
              "      <td>0.0</td>\n",
              "      <td>0.0</td>\n",
              "      <td>0.0</td>\n",
              "      <td>0.0</td>\n",
              "      <td>0.0</td>\n",
              "    </tr>\n",
              "    <tr>\n",
              "      <th>3</th>\n",
              "      <td>0.0</td>\n",
              "      <td>0.0</td>\n",
              "      <td>0.0</td>\n",
              "      <td>0.0</td>\n",
              "      <td>0.0</td>\n",
              "      <td>0.0</td>\n",
              "      <td>0.0</td>\n",
              "      <td>0.0</td>\n",
              "      <td>0.0</td>\n",
              "      <td>0.0</td>\n",
              "      <td>0.0</td>\n",
              "      <td>0.0</td>\n",
              "      <td>0.0</td>\n",
              "      <td>0.0</td>\n",
              "      <td>0.0</td>\n",
              "      <td>0.0</td>\n",
              "      <td>0.0</td>\n",
              "      <td>0.0</td>\n",
              "      <td>0.0</td>\n",
              "      <td>0.0</td>\n",
              "      <td>0.0</td>\n",
              "      <td>0.0</td>\n",
              "      <td>0.0</td>\n",
              "      <td>0.0</td>\n",
              "      <td>0.0</td>\n",
              "      <td>0.0</td>\n",
              "      <td>0.0</td>\n",
              "      <td>0.0</td>\n",
              "      <td>0.0</td>\n",
              "      <td>0.0</td>\n",
              "      <td>0.0</td>\n",
              "      <td>0.0</td>\n",
              "      <td>0.0</td>\n",
              "      <td>0.0</td>\n",
              "      <td>0.0</td>\n",
              "      <td>0.0</td>\n",
              "      <td>0.0</td>\n",
              "      <td>0.0</td>\n",
              "      <td>0.0</td>\n",
              "      <td>0.0</td>\n",
              "      <td>...</td>\n",
              "      <td>0.0</td>\n",
              "      <td>0.0</td>\n",
              "      <td>0.0</td>\n",
              "      <td>0.0</td>\n",
              "      <td>0.0</td>\n",
              "      <td>0.0</td>\n",
              "      <td>0.0</td>\n",
              "      <td>0.0</td>\n",
              "      <td>0.0</td>\n",
              "      <td>0.0</td>\n",
              "      <td>0.0</td>\n",
              "      <td>0.0</td>\n",
              "      <td>0.0</td>\n",
              "      <td>0.0</td>\n",
              "      <td>0.0</td>\n",
              "      <td>0.0</td>\n",
              "      <td>0.0</td>\n",
              "      <td>0.0</td>\n",
              "      <td>0.0</td>\n",
              "      <td>0.0</td>\n",
              "      <td>0.0</td>\n",
              "      <td>0.0</td>\n",
              "      <td>0.0</td>\n",
              "      <td>0.0</td>\n",
              "      <td>0.0</td>\n",
              "      <td>0.0</td>\n",
              "      <td>0.0</td>\n",
              "      <td>0.0</td>\n",
              "      <td>0.0</td>\n",
              "      <td>0.0</td>\n",
              "      <td>0.0</td>\n",
              "      <td>0.0</td>\n",
              "      <td>0.0</td>\n",
              "      <td>0.0</td>\n",
              "      <td>0.0</td>\n",
              "      <td>0.0</td>\n",
              "      <td>0.0</td>\n",
              "      <td>0.0</td>\n",
              "      <td>0.0</td>\n",
              "      <td>0.0</td>\n",
              "    </tr>\n",
              "    <tr>\n",
              "      <th>4</th>\n",
              "      <td>0.0</td>\n",
              "      <td>0.0</td>\n",
              "      <td>0.0</td>\n",
              "      <td>0.0</td>\n",
              "      <td>0.0</td>\n",
              "      <td>0.0</td>\n",
              "      <td>0.0</td>\n",
              "      <td>0.0</td>\n",
              "      <td>0.0</td>\n",
              "      <td>0.0</td>\n",
              "      <td>0.0</td>\n",
              "      <td>0.0</td>\n",
              "      <td>0.0</td>\n",
              "      <td>0.0</td>\n",
              "      <td>0.0</td>\n",
              "      <td>0.0</td>\n",
              "      <td>0.0</td>\n",
              "      <td>0.0</td>\n",
              "      <td>0.0</td>\n",
              "      <td>0.0</td>\n",
              "      <td>0.0</td>\n",
              "      <td>0.0</td>\n",
              "      <td>0.0</td>\n",
              "      <td>0.0</td>\n",
              "      <td>0.0</td>\n",
              "      <td>0.0</td>\n",
              "      <td>0.0</td>\n",
              "      <td>0.0</td>\n",
              "      <td>0.0</td>\n",
              "      <td>0.0</td>\n",
              "      <td>0.0</td>\n",
              "      <td>0.0</td>\n",
              "      <td>0.0</td>\n",
              "      <td>0.0</td>\n",
              "      <td>0.0</td>\n",
              "      <td>0.0</td>\n",
              "      <td>0.0</td>\n",
              "      <td>0.0</td>\n",
              "      <td>0.0</td>\n",
              "      <td>0.0</td>\n",
              "      <td>...</td>\n",
              "      <td>0.0</td>\n",
              "      <td>0.0</td>\n",
              "      <td>0.0</td>\n",
              "      <td>0.0</td>\n",
              "      <td>0.0</td>\n",
              "      <td>0.0</td>\n",
              "      <td>0.0</td>\n",
              "      <td>0.0</td>\n",
              "      <td>0.0</td>\n",
              "      <td>0.0</td>\n",
              "      <td>0.0</td>\n",
              "      <td>0.0</td>\n",
              "      <td>0.0</td>\n",
              "      <td>0.0</td>\n",
              "      <td>0.0</td>\n",
              "      <td>0.0</td>\n",
              "      <td>0.0</td>\n",
              "      <td>0.0</td>\n",
              "      <td>0.0</td>\n",
              "      <td>0.0</td>\n",
              "      <td>0.0</td>\n",
              "      <td>0.0</td>\n",
              "      <td>0.0</td>\n",
              "      <td>0.0</td>\n",
              "      <td>0.0</td>\n",
              "      <td>0.0</td>\n",
              "      <td>0.0</td>\n",
              "      <td>0.0</td>\n",
              "      <td>0.0</td>\n",
              "      <td>0.0</td>\n",
              "      <td>0.0</td>\n",
              "      <td>0.0</td>\n",
              "      <td>0.0</td>\n",
              "      <td>0.0</td>\n",
              "      <td>0.0</td>\n",
              "      <td>0.0</td>\n",
              "      <td>0.0</td>\n",
              "      <td>0.0</td>\n",
              "      <td>0.0</td>\n",
              "      <td>0.0</td>\n",
              "    </tr>\n",
              "  </tbody>\n",
              "</table>\n",
              "<p>5 rows × 26993 columns</p>\n",
              "</div>"
            ],
            "text/plain": [
              "   -PRON-  aaa  aaas  aaas title  ...  zone  zoom  zurich  zurich premiership\n",
              "0     0.0  0.0   0.0         0.0  ...   0.0   0.0     0.0                 0.0\n",
              "1     0.0  0.0   0.0         0.0  ...   0.0   0.0     0.0                 0.0\n",
              "2     0.0  0.0   0.0         0.0  ...   0.0   0.0     0.0                 0.0\n",
              "3     0.0  0.0   0.0         0.0  ...   0.0   0.0     0.0                 0.0\n",
              "4     0.0  0.0   0.0         0.0  ...   0.0   0.0     0.0                 0.0\n",
              "\n",
              "[5 rows x 26993 columns]"
            ]
          },
          "metadata": {
            "tags": []
          },
          "execution_count": 32
        }
      ]
    },
    {
      "cell_type": "code",
      "metadata": {
        "id": "njqGXsJc-VWW"
      },
      "source": [
        "from sklearn.metrics.pairwise import cosine_similarity\n",
        "distance_matrix  = cosine_similarity(dtm)\n",
        "data = pd.DataFrame(distance_matrix)"
      ],
      "execution_count": 33,
      "outputs": []
    },
    {
      "cell_type": "code",
      "metadata": {
        "colab": {
          "base_uri": "https://localhost:8080/"
        },
        "id": "i2FwW_gw-WU_",
        "outputId": "414bba29-f7ba-484f-d677-910223367bdd"
      },
      "source": [
        "ind = data[data[100] < 1][100].sort_values(ascending=False)[:5]\n",
        "ind"
      ],
      "execution_count": 34,
      "outputs": [
        {
          "output_type": "execute_result",
          "data": {
            "text/plain": [
              "120    0.336975\n",
              "150    0.307608\n",
              "136    0.302756\n",
              "289    0.302062\n",
              "437    0.295498\n",
              "Name: 100, dtype: float64"
            ]
          },
          "metadata": {
            "tags": []
          },
          "execution_count": 34
        }
      ]
    },
    {
      "cell_type": "code",
      "metadata": {
        "colab": {
          "base_uri": "https://localhost:8080/",
          "height": 179
        },
        "id": "WVNuEg7aDE8Z",
        "outputId": "01d52653-ad7b-4180-cedf-677b89560530"
      },
      "source": [
        "df['Text'].loc[10]"
      ],
      "execution_count": 35,
      "outputs": [
        {
          "output_type": "execute_result",
          "data": {
            "application/vnd.google.colaboratory.intrinsic+json": {
              "type": "string"
            },
            "text/plain": [
              "\"ask jeeves tips online ad revival  ask jeeves has become the third leading online search firm this week to thank a revival in internet advertising for improving fortunes.  the firm's revenue nearly tripled in the fourth quarter of 2004, exceeding $86m (â£46m). ask jeeves, once among the best-known names on the web, is now a relatively modest player. its $17m profit for the quarter was dwarfed by the $204m announced by rival google earlier in the week. during the same quarter, yahoo earned $187m, again tipping a resurgence in online advertising.  the trend has taken hold relatively quickly. late last year, marketing company doubleclick, one of the leading providers of online advertising, warned that some or all of its business would have to be put up for sale. but on thursday, it announced that a sharp turnaround had brought about an unexpected increase in profits. neither ask jeeves nor doubleclick thrilled investors with their profit news, however. in both cases, their shares fell by some 4%. analysts attributed the falls to excessive expectations in some quarters, fuelled by the dramatic outperformance of google on tuesday. \""
            ]
          },
          "metadata": {
            "tags": []
          },
          "execution_count": 35
        }
      ]
    },
    {
      "cell_type": "code",
      "metadata": {
        "colab": {
          "base_uri": "https://localhost:8080/",
          "height": 179
        },
        "id": "7f8BD0LSDw6X",
        "outputId": "d01647ee-7982-4422-d826-3884403a6bad"
      },
      "source": [
        "df['Text'].loc[1885]"
      ],
      "execution_count": 36,
      "outputs": [
        {
          "output_type": "execute_result",
          "data": {
            "application/vnd.google.colaboratory.intrinsic+json": {
              "type": "string"
            },
            "text/plain": [
              "'ask jeeves joins web log market  ask jeeves has bought the bloglines website to improve the way it handles content from web journals or blogs.  the bloglines site has become hugely popular as it gives users one place in which to read, search and share all the blogs they are interested in. ask jeeves said it was not planning to change bloglines but would use the 300 million articles it has archived to round out its index of the web. how much ask jeeves paid for bloglines was not revealed.  bloglines has become popular because it lets users build a list of the blogs they want to follow without having to visit each journal site individually. to do this it makes use of a technology known as really simple syndication (rss) that many blogs have adopted to let other sites know when new entries are made on their journals. the acquisition follows similar moves by other search sites. google acquired pyra labs, makers of the blogger software, in 2003. in 2004 msn introduced its own blog system and yahoo has tweaked its technology to do a better job of handling blog entries. jim lanzone, vice president of search properties at ask jeeves in the us, said it did not acquire bloglines just to get a foothold in the blog publishing world. he said ask jeeves was much more interested in helping people find information they were looking for rather than helping them write it.  \"the universe of readers is vastly larger than the universe of writers,\" he said. mr lanzone said the acquisition would sit well with ask\\'s my jeeves service which lets people customise their own web experience and build up a personal collection of useful links. \"search engines are about discovering information for the first time and rss is the ideal way to keep track of and monitor those sites,\" he said. it would also help drive information and entries from blogs to the portals that ask jeeves operates. there would be no instant sweeping changes to bloglines, said mr lanzone. \"our intent is to take our time to figure out the right business model not to try to monetise it right away,\" he said. though mr lanzone added that ask jeeves would be helping organise the database of 300m blog entries bloglines holds with its own net indexing technology. \"being able to search the blogosphere as one corpus of information will be very useful in its own right,\" said mr lanzone. rumours about the acquisition were broken by the napsterization weblog which said it got the hint from ask jeeves insiders. '"
            ]
          },
          "metadata": {
            "tags": []
          },
          "execution_count": 36
        }
      ]
    },
    {
      "cell_type": "code",
      "metadata": {
        "colab": {
          "base_uri": "https://localhost:8080/"
        },
        "id": "qRNwq_UuekZB",
        "outputId": "a1614359-47bb-4486-c5df-4f6e5ed9984c"
      },
      "source": [
        "from sklearn.neighbors import NearestNeighbors\n",
        "nn = NearestNeighbors(n_neighbors=5, algorithm='kd_tree') #최근접 5이웃\n",
        "nn.fit(dtm)"
      ],
      "execution_count": 37,
      "outputs": [
        {
          "output_type": "execute_result",
          "data": {
            "text/plain": [
              "NearestNeighbors(algorithm='kd_tree', leaf_size=30, metric='minkowski',\n",
              "                 metric_params=None, n_jobs=None, n_neighbors=5, p=2,\n",
              "                 radius=1.0)"
            ]
          },
          "metadata": {
            "tags": []
          },
          "execution_count": 37
        }
      ]
    },
    {
      "cell_type": "code",
      "metadata": {
        "colab": {
          "base_uri": "https://localhost:8080/"
        },
        "id": "9cSFsJJ_ezKA",
        "outputId": "d79c40c0-11a2-45ef-c670-e93c69f43b5e"
      },
      "source": [
        "result = nn.kneighbors([dtm.iloc[1000]])\n",
        "result"
      ],
      "execution_count": 38,
      "outputs": [
        {
          "output_type": "execute_result",
          "data": {
            "text/plain": [
              "(array([[0.        , 1.24242228, 1.24489071, 1.25970784, 1.26560213]]),\n",
              " array([[1000,  951, 1129, 2090, 2036]]))"
            ]
          },
          "metadata": {
            "tags": []
          },
          "execution_count": 38
        }
      ]
    },
    {
      "cell_type": "code",
      "metadata": {
        "colab": {
          "base_uri": "https://localhost:8080/",
          "height": 289
        },
        "id": "pek9Bqche8Gs",
        "outputId": "3a9bf3ea-2874-484a-8d31-e01e0b2a9a0b"
      },
      "source": [
        "df.iloc[result[1][0]]"
      ],
      "execution_count": 39,
      "outputs": [
        {
          "output_type": "execute_result",
          "data": {
            "text/html": [
              "<div>\n",
              "<style scoped>\n",
              "    .dataframe tbody tr th:only-of-type {\n",
              "        vertical-align: middle;\n",
              "    }\n",
              "\n",
              "    .dataframe tbody tr th {\n",
              "        vertical-align: top;\n",
              "    }\n",
              "\n",
              "    .dataframe thead th {\n",
              "        text-align: right;\n",
              "    }\n",
              "</style>\n",
              "<table border=\"1\" class=\"dataframe\">\n",
              "  <thead>\n",
              "    <tr style=\"text-align: right;\">\n",
              "      <th></th>\n",
              "      <th>Summary</th>\n",
              "      <th>Text</th>\n",
              "      <th>Tokens</th>\n",
              "    </tr>\n",
              "  </thead>\n",
              "  <tbody>\n",
              "    <tr>\n",
              "      <th>1000</th>\n",
              "      <td>UK Muslims should accept that people of Islami...</td>\n",
              "      <td>muslim police stops 'more likely'  uk muslims ...</td>\n",
              "      <td>[muslim, police, stop, likely, muslims, accept...</td>\n",
              "    </tr>\n",
              "    <tr>\n",
              "      <th>951</th>\n",
              "      <td>Britain's young black and Asian people are to ...</td>\n",
              "      <td>citizenship event for 18s touted  citizenship ...</td>\n",
              "      <td>[citizenship, event, touted, citizenship, cere...</td>\n",
              "    </tr>\n",
              "    <tr>\n",
              "      <th>1129</th>\n",
              "      <td>Mr Blunkett said he wanted \"to go back to a ti...</td>\n",
              "      <td>blunkett unveils policing plans  people could ...</td>\n",
              "      <td>[blunkett, unveil, police, plan, people, give,...</td>\n",
              "    </tr>\n",
              "    <tr>\n",
              "      <th>2090</th>\n",
              "      <td>Web users face a plethora of choices as each c...</td>\n",
              "      <td>the year search became personal  the odds are ...</td>\n",
              "      <td>[search, personal, odd, fire, browser, straigh...</td>\n",
              "    </tr>\n",
              "    <tr>\n",
              "      <th>2036</th>\n",
              "      <td>\"Blinkx users do not stop using other web sear...</td>\n",
              "      <td>search sites get closer to users  search sites...</td>\n",
              "      <td>[search, site, close, user, search, site, want...</td>\n",
              "    </tr>\n",
              "  </tbody>\n",
              "</table>\n",
              "</div>"
            ],
            "text/plain": [
              "                                                Summary  ...                                             Tokens\n",
              "1000  UK Muslims should accept that people of Islami...  ...  [muslim, police, stop, likely, muslims, accept...\n",
              "951   Britain's young black and Asian people are to ...  ...  [citizenship, event, touted, citizenship, cere...\n",
              "1129  Mr Blunkett said he wanted \"to go back to a ti...  ...  [blunkett, unveil, police, plan, people, give,...\n",
              "2090  Web users face a plethora of choices as each c...  ...  [search, personal, odd, fire, browser, straigh...\n",
              "2036  \"Blinkx users do not stop using other web sear...  ...  [search, site, close, user, search, site, want...\n",
              "\n",
              "[5 rows x 3 columns]"
            ]
          },
          "metadata": {
            "tags": []
          },
          "execution_count": 39
        }
      ]
    },
    {
      "cell_type": "code",
      "metadata": {
        "colab": {
          "base_uri": "https://localhost:8080/"
        },
        "id": "NBJRWN1PfA0W",
        "outputId": "9d577f90-1319-4a66-ffc7-6fd626efc5ef"
      },
      "source": [
        "pd.set_option('display.max_rows', None)\n",
        "pd.set_option('display.max_columns', None)\n",
        "pd.set_option('display.width', None)\n",
        "pd.set_option('display.max_colwidth', -1)\n",
        "print(df['Summary'].iloc[result[1][0]])"
      ],
      "execution_count": 40,
      "outputs": [
        {
          "output_type": "stream",
          "text": [
            "1000    UK Muslims should accept that people of Islamic appearance are more likely to be stopped and searched by police, a Home Office minister has said.Statistics showed that of the 17 people found guilty of terrorist acts in the UK since the 11 September attacks, only four of the 12 whose ethnic backgrounds were known were Muslim, he added Figures published last week showed that people from ethnic minorities were increasingly likely to be targeted by police stop and search tactics.\"It is not aimed at a particular community, it is not police policy to aim these powers at a particular community,\" he added.The minister had been saying she understood there was a perception that stop and search was aimed at one community, but that was not what was happening, the spokesman said.Last July, the police were accused of Islamophobia by Muslim groups after stop and search figures showed the numbers of Asians targeted had risen by 300% since the introduction of anti-terror laws.\"She is demonising and alienating our community,\" he said.Hazel Blears said innocent Muslims would be targeted because of the search for Islamic extremists.Separate figures on police searches in England and Wales carried out under the Terrorism Act 2000 showed that ethnic minorities were more likely to be targeted.On ministers of religions, such as imams, she said faith groups would be asked what other qualifications and skills, such as civic knowledge and ability to engage the community, should be demanded.\"It means that some of our counter-terrorism powers will be disproportionately experienced by the Muslim community.\"                                      \n",
            "951     Britain's young black and Asian people are to be encouraged to learn about the nation's heritage as part of the government's new race strategy which will also target specific issues within different ethnic minority groups.Citizenship ceremonies could be introduced for people celebrating their 18th birthday, Charles Clarke has said.Mr Clarke said it would be a way of recognising young people reaching their voting age when they also gain greater independence from parents.\"It represents a move away from the one-size-fits-all approach to focus on specifics within cultural groups,\" said a Home Office spokesman.The Downing Street Strategy Unit in 2003 said people from Indian and Chinese backgrounds were doing well on average, often outperforming white people in education and earnings.The Home Office wants more initiatives which try to promote a sense of belonging by encouraging young people to take part in voluntary work.Officials say the home secretary wants young people to feel they belong and to understand their \"other cultural identities\" alongside being British.\"It is not right to say that if you are from a black or ethnic minority group you must be disadvantaged.\"Launching the initiative Mr Clarke said enormous progress had been made on race issues in recent years.The spokesman highlighted specific issues that affect particular communities - for example people of south Asian origin tend to suffer from a high incidence of heart disease.                                                                                                                                                                                      \n",
            "1129    Mr Blunkett said he wanted \"to go back to a time when I was very young, when you expected the police to be part of the community and the community to be part of policing and where people were joined together in partnership making it work\".The best performing police services would get more cash and extra freedoms, he said, but he would not shirk from stepping in where the public was being failed.Mr Blunkett said a new three digit number would be created for non-emergency phone calls to police.Police forces were already \"buried\" under existing government initiatives and there was little in the latest plans to reassure them,\" said Mr Davis.Earlier Lib Dem home affairs spokesman Mark Oaten said the government was right to want to increase the links between local people and the police.He has also started to recruit 25,000 Community Support Officers (CSOs) and the new plans would allow all police forces to give them the power to detain suspects.The home secretary said targets would be put in place to ensure that the public got a good response from police.Local people would also be able to \"trigger\" action on specific problems if they felt nothing was being done.The plans also include the idea of allowing people join police forces at different levels rather than the traditional way of making everybody spend specific amounts of time as a constable before being promoted.Opposition parties also want more local policing to tackle nuisance behaviour and other crime but they accuse ministers of tying the police up with paperwork.                                                                                                   \n",
            "2090    Web users face a plethora of choices as each company tries to outflank Google by rolling out new search products such as desktop search.Some may see this as the height of laziness, but in an era of information overload, search has become a vital tool in navigating the net.Microsoft is just one of the net giants muscling in on search.Search is not just about finding your way around the web.If Microsoft sees search as important, then nobody queries it,\" said Mr Holzle.Google has shown web commerce can work through its targeted small adverts, which appear at the top and down the right-hand side of a page and are related to the original search.\"Search was always important,\" said Urs Holzle, Google vice-president of operations.\"User experience has contributed to people searching more,\" said Yonca Brunini of Yahoo.\"People didn't realise that search was the future.But search is hardly a new phenomenon.In order to do a better job, search engines are trying to get to know you better, doing a better job of remembering, cataloguing and managing all the information you come across.Over the past 12 months, giants of the technology world such as Microsoft and Yahoo have sought to grab a slice of the search action.And as Google has shown, there is money in offering a service that people cannot live without.The odds are that when you fire up your browser, you go straight to your favourite search engine, rather than type in a web address.For all these advances, search is still a clumsy tool, often failing to come up with exactly what you had in mind.                                                                                  \n",
            "2036    \"Blinkx users do not stop using other web search systems,\" he said.Some of the latest to update their search systems are Ask Jeeves and Blinkx, which have both released a series of utilities that try to help people get more from the web.On average, said Mr Macklin, users conduct between five and 10 searches per day and the tools in My Ask Jeeves should stop them having to do searches twice and get to what they want much more easily.What users do with Blinkx and other desktop search engines shows that people tend to be very promiscuous in their use of search engines.By way of comparison Google's Desktop search tool catalogues search histories informally and lets people look through the sites they have visited.Mr Macklin said that too often when people use a search engine it was like the first time they ever used it, because there was no memory of what they had searched for before.Under My Ask Jeeves users can search the web or through the results they have already noted as interesting.Ask Jeeves has added the ability to \"save\" websites of interest so the next time a users visits the site they can search through the sites they have previously found.The variety of ways to search data was only helping users, said Mr Chandratillake and that it was likely that in the future people would use different ones for different tasks.Since Blinkx launched it has faced increased competition from firms such as Google, Copernic, Enfish, X1 and Apple all of whom now have programs that let people search their PC as well as the web.\"The future is all about developing your own personal web,\" said Tony Macklin, spokesman for Ask Jeeves.\n",
            "Name: Summary, dtype: object\n"
          ],
          "name": "stdout"
        },
        {
          "output_type": "stream",
          "text": [
            "/usr/local/lib/python3.7/dist-packages/ipykernel_launcher.py:4: FutureWarning: Passing a negative integer is deprecated in version 1.0 and will not be supported in future version. Instead, use None to not limit the column width.\n",
            "  after removing the cwd from sys.path.\n"
          ],
          "name": "stderr"
        }
      ]
    },
    {
      "cell_type": "code",
      "metadata": {
        "id": "lsDv793ig0E7",
        "colab": {
          "base_uri": "https://localhost:8080/"
        },
        "outputId": "6969f755-9d15-490f-cb70-1ce701d5cdc6"
      },
      "source": [
        "pd.set_option('display.max_rows', None)\n",
        "pd.set_option('display.max_columns', None)\n",
        "pd.set_option('display.width', None)\n",
        "pd.set_option('display.max_colwidth', -1)\n",
        "print(df['Tokens'].iloc[result[1][0]])"
      ],
      "execution_count": 41,
      "outputs": [
        {
          "output_type": "stream",
          "text": [
            "1000    [muslim, police, stop, likely, muslims, accept, people, islamic, appearance, likely, stop, search, police, home, office, minister, hazel, blear, innocent, muslims, target, search, islamic, extremist, qualification, religious, leader, enter, tough, common, inquiry, comment, describe, irresponsible, outrageous, islamic, human, rights, commission, ihrc, threat, likely, come, people, associate, extreme, form, islam, falsely, hide, islam, salford, mp, commons, home, affairs, committee, mean, counterterrorism, power, disproportionately, experience, muslim, community, reality, recognise, threat, particular, place, action, go, target, area, add, minister, religion, imam, faith, group, ask, qualification, skill, civic, knowledge, ability, engage, community, demand, minister, introduce, requirement, minister, speak, english, certain, level, ihrc, chairman, massoud, shadjareh, ...]\n",
            "951     [citizenship, event, touted, citizenship, ceremony, introduce, people, celebrate, birthday, charles, clarke, idea, try, overhaul, way, government, approach, inclusive, citizenship, particularly, ethnic, minority, pilot, scheme, base, ceremony, australia, start, october, clarke, way, recognise, young, people, reach, voting, age, gain, great, independence, parent, britain, young, black, asian, people, encourage, learn, nation, heritage, government, race, strategy, target, specific, issue, different, ethnic, minority, group, official, home, secretary, want, young, people, feel, belong, understand, cultural, identity, alongside, british, launch, follow, row, role, faith, school, britain, monday, school, inspection, chief, david, bell, accuse, islamic, school, fail, teach, pupil, obligation, british, society, muslim, council, britain, ofste, boss, ...]                        \n",
            "1129    [blunkett, unveil, police, plan, people, give, mobile, phone, local, bobby, overhaul, police, england, wales, unveil, david, blunkett, plan, include, dedicated, policing, team, neighbourhood, point, compulsory, customer, charter, home, secretary, target, place, ensure, public, get, good, response, police, local, people, able, trigger, action, specific, problem, feel, local, councillor, certain, condition, meet, invoke, power, police, refuse, request, complaint, frivolous, cause, annoyance, pose, heavy, burden, resource, blunkett, digit, create, nonemergency, phone, call, police, perform, police, service, cash, extra, freedom, shirk, step, public, fail, home, secretarys, power, suspend, sack, chief, constable, review, blunketts, battle, humberside, chief, david, westwood, intelligence, failure, soham, murderer, ian, huntley, ...]                                           \n",
            "2090    [search, personal, odd, fire, browser, straight, favourite, search, engine, type, web, address, height, laziness, era, information, overload, search, vital, tool, navigate, net, symptomatic, way, use, internet, change, google, show, money, offer, service, people, live, shortage, company, vie, loyalty, web, searcher, offer, wealth, different, service, tool, help, find, want, past, month, giant, technology, world, microsoft, yahoo, seek, grab, slice, search, action, user, experience, contribute, people, search, yonca, brunini, yahoo, people, familiar, internet, tend, spend, online, ask, query, second, thing, broadband, ms, brunini, news, website, internet, colour, tv, search, hardly, phenomenon, early, day, net, veteran, surfer, remember, oldtimer, hotbot, altavista, search, important, ...]                                                                                    \n",
            "2036    [search, site, close, user, search, site, want, know, better, content, provide, access, million, website, offer, way, well, job, remember, catalogue, manage, information, come, late, update, search, system, ask, jeeves, blinkx, release, series, utility, try, help, people, web, future, develop, personal, web, tony, macklin, spokesman, ask, jeeves, macklin, people, use, search, engine, memory, search, start, series, updates, service, collect, ask, jeeves, banner, help, people, remember, ask, jeeves, add, ability, save, website, interest, user, visit, site, search, site, previously, find, site, save, way, arrange, folder, note, attach, explain, save, macklin, people, want, save, site, see, want, add, bookmark, favourite, list, easily, search, ...]                                                                                                                                 \n",
            "Name: Tokens, dtype: object\n"
          ],
          "name": "stdout"
        },
        {
          "output_type": "stream",
          "text": [
            "/usr/local/lib/python3.7/dist-packages/ipykernel_launcher.py:4: FutureWarning: Passing a negative integer is deprecated in version 1.0 and will not be supported in future version. Instead, use None to not limit the column width.\n",
            "  after removing the cwd from sys.path.\n"
          ],
          "name": "stderr"
        }
      ]
    }
  ]
}