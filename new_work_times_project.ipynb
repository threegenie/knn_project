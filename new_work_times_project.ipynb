{
  "nbformat": 4,
  "nbformat_minor": 0,
  "metadata": {
    "colab": {
      "name": "new work times project.ipynb",
      "provenance": [],
      "machine_shape": "hm",
      "include_colab_link": true
    },
    "kernelspec": {
      "name": "python3",
      "display_name": "Python 3"
    },
    "language_info": {
      "name": "python"
    },
    "accelerator": "TPU"
  },
  "cells": [
    {
      "cell_type": "markdown",
      "metadata": {
        "id": "view-in-github",
        "colab_type": "text"
      },
      "source": [
        "<a href=\"https://colab.research.google.com/github/threegenie/knn_project/blob/main/new_work_times_project.ipynb\" target=\"_parent\"><img src=\"https://colab.research.google.com/assets/colab-badge.svg\" alt=\"Open In Colab\"/></a>"
      ]
    },
    {
      "cell_type": "code",
      "metadata": {
        "colab": {
          "base_uri": "https://localhost:8080/"
        },
        "id": "aM1RotxEYdrT",
        "outputId": "569a7c69-031a-4bd0-c07a-97570755f77f"
      },
      "source": [
        "import pandas as pd\n",
        "import os, sys\n",
        "import numpy as np\n",
        "from google.colab import drive\n",
        "\n",
        "drive.mount('/content/drive')\n",
        "# df1 = pd.read_csv('/content/drive/My Drive/df_2016.csv',encoding= 'unicode_escape')\n",
        "# df2 = pd.read_csv('/content/drive/My Drive/df_2017.csv',encoding= 'unicode_escape')\n",
        "# df3 = pd.read_csv('/content/drive/My Drive/df_2018.csv',encoding= 'unicode_escape')\n",
        "# df4 = pd.read_csv('/content/drive/My Drive/df_2019.csv',encoding= 'unicode_escape')\n",
        "df = pd.read_csv('/content/drive/My Drive/df_2020.csv',encoding= 'unicode_escape')\n",
        "\n",
        "#원래는 2016~2020 New York Times 기사를 전부 쓰고 싶었으나..... 시간적 한계로 2020년 데이터만 사용 ㅠㅠ "
      ],
      "execution_count": 1,
      "outputs": [
        {
          "output_type": "stream",
          "text": [
            "Mounted at /content/drive\n"
          ],
          "name": "stdout"
        }
      ]
    },
    {
      "cell_type": "code",
      "metadata": {
        "colab": {
          "base_uri": "https://localhost:8080/",
          "height": 204
        },
        "id": "Xa8KHt28Zdgn",
        "outputId": "1062be9d-ba78-4804-9c99-d160bbb5538d"
      },
      "source": [
        "df.head()"
      ],
      "execution_count": 2,
      "outputs": [
        {
          "output_type": "execute_result",
          "data": {
            "text/html": [
              "<div>\n",
              "<style scoped>\n",
              "    .dataframe tbody tr th:only-of-type {\n",
              "        vertical-align: middle;\n",
              "    }\n",
              "\n",
              "    .dataframe tbody tr th {\n",
              "        vertical-align: top;\n",
              "    }\n",
              "\n",
              "    .dataframe thead th {\n",
              "        text-align: right;\n",
              "    }\n",
              "</style>\n",
              "<table border=\"1\" class=\"dataframe\">\n",
              "  <thead>\n",
              "    <tr style=\"text-align: right;\">\n",
              "      <th></th>\n",
              "      <th>Unnamed: 0</th>\n",
              "      <th>year</th>\n",
              "      <th>sentence</th>\n",
              "    </tr>\n",
              "  </thead>\n",
              "  <tbody>\n",
              "    <tr>\n",
              "      <th>0</th>\n",
              "      <td>0</td>\n",
              "      <td>2020</td>\n",
              "      <td>The fugitive from Japan has put Lebanon in an ...</td>\n",
              "    </tr>\n",
              "    <tr>\n",
              "      <th>1</th>\n",
              "      <td>1</td>\n",
              "      <td>2020</td>\n",
              "      <td>Mixed reaction to the news that Maj. Gen. Qass...</td>\n",
              "    </tr>\n",
              "    <tr>\n",
              "      <th>2</th>\n",
              "      <td>2</td>\n",
              "      <td>2020</td>\n",
              "      <td>In bronze, silver or aluminum, a statue is an ...</td>\n",
              "    </tr>\n",
              "    <tr>\n",
              "      <th>3</th>\n",
              "      <td>3</td>\n",
              "      <td>2020</td>\n",
              "      <td>Also this week, holiday fireworks in Iceland a...</td>\n",
              "    </tr>\n",
              "    <tr>\n",
              "      <th>4</th>\n",
              "      <td>4</td>\n",
              "      <td>2020</td>\n",
              "      <td>The teenager, accused in the death of the Barn...</td>\n",
              "    </tr>\n",
              "  </tbody>\n",
              "</table>\n",
              "</div>"
            ],
            "text/plain": [
              "   Unnamed: 0  year                                           sentence\n",
              "0           0  2020  The fugitive from Japan has put Lebanon in an ...\n",
              "1           1  2020  Mixed reaction to the news that Maj. Gen. Qass...\n",
              "2           2  2020  In bronze, silver or aluminum, a statue is an ...\n",
              "3           3  2020  Also this week, holiday fireworks in Iceland a...\n",
              "4           4  2020  The teenager, accused in the death of the Barn..."
            ]
          },
          "metadata": {
            "tags": []
          },
          "execution_count": 2
        }
      ]
    },
    {
      "cell_type": "code",
      "metadata": {
        "colab": {
          "base_uri": "https://localhost:8080/"
        },
        "id": "AOssle3nZXKv",
        "outputId": "2dc08454-9ecf-4728-d212-ae96098401a3"
      },
      "source": [
        "df.info()"
      ],
      "execution_count": 3,
      "outputs": [
        {
          "output_type": "stream",
          "text": [
            "<class 'pandas.core.frame.DataFrame'>\n",
            "RangeIndex: 69119 entries, 0 to 69118\n",
            "Data columns (total 3 columns):\n",
            " #   Column      Non-Null Count  Dtype \n",
            "---  ------      --------------  ----- \n",
            " 0   Unnamed: 0  69119 non-null  int64 \n",
            " 1   year        69119 non-null  int64 \n",
            " 2   sentence    69119 non-null  object\n",
            "dtypes: int64(2), object(1)\n",
            "memory usage: 1.6+ MB\n"
          ],
          "name": "stdout"
        }
      ]
    },
    {
      "cell_type": "code",
      "metadata": {
        "id": "6klntVdoREjo"
      },
      "source": [
        "# 분석에 필요없는 열 제거\n",
        "df = df.drop(['Unnamed: 0','year'],axis=1)"
      ],
      "execution_count": 4,
      "outputs": []
    },
    {
      "cell_type": "code",
      "metadata": {
        "id": "CFBB_Q5VyvlN"
      },
      "source": [
        "# 중복 기사 제거\n",
        "df = df.drop_duplicates('sentence',keep='first')"
      ],
      "execution_count": 5,
      "outputs": []
    },
    {
      "cell_type": "code",
      "metadata": {
        "colab": {
          "base_uri": "https://localhost:8080/",
          "height": 204
        },
        "id": "a0NH4h-yRV7M",
        "outputId": "4c21a7a5-d620-42e6-cf89-40e69f70d7bd"
      },
      "source": [
        "# 제거 결과 확인\n",
        "df.head()"
      ],
      "execution_count": 6,
      "outputs": [
        {
          "output_type": "execute_result",
          "data": {
            "text/html": [
              "<div>\n",
              "<style scoped>\n",
              "    .dataframe tbody tr th:only-of-type {\n",
              "        vertical-align: middle;\n",
              "    }\n",
              "\n",
              "    .dataframe tbody tr th {\n",
              "        vertical-align: top;\n",
              "    }\n",
              "\n",
              "    .dataframe thead th {\n",
              "        text-align: right;\n",
              "    }\n",
              "</style>\n",
              "<table border=\"1\" class=\"dataframe\">\n",
              "  <thead>\n",
              "    <tr style=\"text-align: right;\">\n",
              "      <th></th>\n",
              "      <th>sentence</th>\n",
              "    </tr>\n",
              "  </thead>\n",
              "  <tbody>\n",
              "    <tr>\n",
              "      <th>0</th>\n",
              "      <td>The fugitive from Japan has put Lebanon in an ...</td>\n",
              "    </tr>\n",
              "    <tr>\n",
              "      <th>1</th>\n",
              "      <td>Mixed reaction to the news that Maj. Gen. Qass...</td>\n",
              "    </tr>\n",
              "    <tr>\n",
              "      <th>2</th>\n",
              "      <td>In bronze, silver or aluminum, a statue is an ...</td>\n",
              "    </tr>\n",
              "    <tr>\n",
              "      <th>3</th>\n",
              "      <td>Also this week, holiday fireworks in Iceland a...</td>\n",
              "    </tr>\n",
              "    <tr>\n",
              "      <th>4</th>\n",
              "      <td>The teenager, accused in the death of the Barn...</td>\n",
              "    </tr>\n",
              "  </tbody>\n",
              "</table>\n",
              "</div>"
            ],
            "text/plain": [
              "                                            sentence\n",
              "0  The fugitive from Japan has put Lebanon in an ...\n",
              "1  Mixed reaction to the news that Maj. Gen. Qass...\n",
              "2  In bronze, silver or aluminum, a statue is an ...\n",
              "3  Also this week, holiday fireworks in Iceland a...\n",
              "4  The teenager, accused in the death of the Barn..."
            ]
          },
          "metadata": {
            "tags": []
          },
          "execution_count": 6
        }
      ]
    },
    {
      "cell_type": "code",
      "metadata": {
        "colab": {
          "base_uri": "https://localhost:8080/"
        },
        "id": "MA_5HU8ayxNw",
        "outputId": "e0e48047-9ce2-4693-88c0-3c0fd178ac52"
      },
      "source": [
        "df.info()"
      ],
      "execution_count": 7,
      "outputs": [
        {
          "output_type": "stream",
          "text": [
            "<class 'pandas.core.frame.DataFrame'>\n",
            "Int64Index: 42420 entries, 0 to 69113\n",
            "Data columns (total 1 columns):\n",
            " #   Column    Non-Null Count  Dtype \n",
            "---  ------    --------------  ----- \n",
            " 0   sentence  42420 non-null  object\n",
            "dtypes: object(1)\n",
            "memory usage: 662.8+ KB\n"
          ],
          "name": "stdout"
        }
      ]
    },
    {
      "cell_type": "markdown",
      "metadata": {
        "id": "lnmJiEcbQdHj"
      },
      "source": [
        "#### 토큰 정제"
      ]
    },
    {
      "cell_type": "code",
      "metadata": {
        "id": "ZU-UAgJyZdBP",
        "colab": {
          "base_uri": "https://localhost:8080/"
        },
        "outputId": "4f10848c-581c-42ce-e8c3-095d33a6b9ab"
      },
      "source": [
        "!pip install squarify"
      ],
      "execution_count": 8,
      "outputs": [
        {
          "output_type": "stream",
          "text": [
            "Collecting squarify\n",
            "  Downloading https://files.pythonhosted.org/packages/0b/2b/2e77c35326efec19819cd1d729540d4d235e6c2a3f37658288a363a67da5/squarify-0.4.3-py3-none-any.whl\n",
            "Installing collected packages: squarify\n",
            "Successfully installed squarify-0.4.3\n"
          ],
          "name": "stdout"
        }
      ]
    },
    {
      "cell_type": "code",
      "metadata": {
        "id": "X0jKPfscQfNE"
      },
      "source": [
        "import re\n",
        "import squarify\n",
        "import matplotlib.pyplot as plt\n",
        "import seaborn as sns\n",
        "import spacy\n",
        "from spacy.tokenizer import Tokenizer"
      ],
      "execution_count": 9,
      "outputs": []
    },
    {
      "cell_type": "code",
      "metadata": {
        "colab": {
          "base_uri": "https://localhost:8080/"
        },
        "id": "tCjjxvRmQo56",
        "outputId": "1c727efb-358c-4fc9-9374-e6dee7eda089"
      },
      "source": [
        "#기본 불용어 불러오기\n",
        "nlp = spacy.load(\"en_core_web_sm\")\n",
        "tokenizer = Tokenizer(nlp.vocab)\n",
        "print(nlp.Defaults.stop_words)"
      ],
      "execution_count": 10,
      "outputs": [
        {
          "output_type": "stream",
          "text": [
            "{'was', 'almost', 'ever', 'latterly', 'then', 'say', 'than', 'whither', 'but', 'through', '’d', 'nowhere', 'down', \"n't\", 'becoming', 'had', 'hence', 'very', 'upon', 'front', 'sometime', 'both', 'am', 'should', 'herself', 'without', 'or', 'serious', '‘d', 'well', 'our', 'three', 'above', 'most', 'whatever', 'name', 'i', 'ten', 'however', '‘s', 'are', 'all', '’s', 'latter', 'also', 'elsewhere', 'what', 'fifteen', 'this', 'two', 'from', 'she', 'at', 'anyway', 'around', 'why', 'within', 'your', 'so', 'besides', 'call', 'first', 'is', 'already', \"'m\", 'always', 'side', 'everyone', 'take', 'empty', 'much', 'alone', 'wherein', 'whereby', \"'s\", 'another', 'further', 'else', 'whoever', 'onto', 'thus', 'mostly', 'more', 'whereafter', 'just', 'together', 'during', 'make', 'used', 'various', 'fifty', 'does', 'due', 'unless', 'its', 'seeming', 'doing', 'when', 'has', 'even', 'seems', 'he', 'somehow', 'n’t', 'forty', 'an', 're', 'hers', 'nor', 'regarding', 'something', 'bottom', 'none', '’m', 'via', 'that', 'twelve', 'until', 'since', 'therein', 'along', 'sometimes', 'nothing', 'whole', 'former', 'his', 'put', 'formerly', 'hereafter', 'yet', 'per', 'beforehand', '‘m', 'below', 'of', 'see', 'if', 'yourself', 'now', 'ca', 'between', 'as', 'hereby', 'after', \"'ll\", 'these', 'each', 'everywhere', 'anywhere', 'became', 'because', 'behind', 'afterwards', 'nine', 'while', 'whence', 'a', 'namely', 'seem', 'otherwise', 'seemed', 'made', 'noone', 'off', '‘ll', 'into', 'who', '‘ve', 'thereafter', 'thru', 'get', 'meanwhile', 'back', 'someone', 'part', 'never', 'whether', 'same', 'many', 'n‘t', 'amongst', 'and', 'mine', 'last', 'in', 'how', 'enough', 'we', 'the', 'about', 'sixty', 'may', 'toward', 'show', 'give', 'towards', 'really', 'for', 'moreover', 'there', 'were', 'become', 'will', 'full', 'be', 'before', 'whenever', 'others', 'thence', 'own', 'neither', 'few', 'next', 'under', 'beside', 'out', 'some', '’re', 'you', 'here', 'quite', 'go', 'to', 'such', 'anything', 'somewhere', 'indeed', 'amount', 'my', \"'re\", 'twenty', 'themselves', 'himself', 'they', 'keep', 'too', 'would', 'myself', 'ourselves', 'except', 'less', 'over', 'thereby', 'on', 'him', 'not', 'their', '’ll', 'among', 'being', 'top', 'whose', 'whom', 'done', 'yours', 'least', 'five', 'eleven', 'eight', 'nobody', 'any', 'ours', 'whereupon', 'it', 'anyhow', 'other', 'again', 'once', 'though', 'often', 'yourselves', 'therefore', \"'d\", 'do', 'using', 'no', 'please', 'can', 'against', 'where', 'move', 'either', 'six', 'could', 'throughout', 'still', 'been', 'hereupon', '‘re', 'did', 'although', 'have', 'which', 'everything', \"'ve\", 'third', 'anyone', 'might', 'up', 'four', 'every', 'cannot', 'must', 'one', 'wherever', 'itself', 'her', 'by', 'nevertheless', 'thereupon', 'hundred', 'perhaps', 'rather', 'becomes', 'me', 'several', 'them', 'herein', 'with', 'beyond', 'across', 'those', 'only', '’ve', 'us', 'whereas'}\n"
          ],
          "name": "stdout"
        }
      ]
    },
    {
      "cell_type": "code",
      "metadata": {
        "id": "ukKWGqVMQqKZ"
      },
      "source": [
        "#불용어 추가하기\n",
        "st_words = nlp.Defaults.stop_words.union(['this', 'i', 'it', 'is', 'in', 'and', 'a', 'the', 'but', 'to', 'the',\n",
        "                                          'said','york','u.s.','not','day','date','year','time'])"
      ],
      "execution_count": 11,
      "outputs": []
    },
    {
      "cell_type": "code",
      "metadata": {
        "id": "1K1uKAmHPBU7"
      },
      "source": [
        "def tokenize(text):\n",
        "  text = text.lower()\n",
        "  text = text.replace(\"\\n\",\" \")\n",
        "\n",
        "  subst = \"\"\n",
        "  regex = \"[^a-zA-Z0-9 ]\"\n",
        "  doc = re.sub(regex, subst, text)\n",
        "\n",
        "  doc = nlp(doc)\n",
        "  tokens = []\n",
        "\n",
        "  for token in doc :\n",
        "    if (token.text.lower() not in st_words) & (token.is_stop == False) & (token.is_punct == False) & (token.is_alpha):\n",
        "      tokens.append(token.lemma_)\n",
        "      \n",
        "  return tokens"
      ],
      "execution_count": 12,
      "outputs": []
    },
    {
      "cell_type": "code",
      "metadata": {
        "colab": {
          "base_uri": "https://localhost:8080/"
        },
        "id": "BwRoDK59PNhO",
        "outputId": "2f06c799-ae85-49b0-b0bf-d7b423feb318"
      },
      "source": [
        "df['Tokens']=df['sentence'].apply(tokenize)\n",
        "df['Tokens'].head(3)"
      ],
      "execution_count": 13,
      "outputs": [
        {
          "output_type": "execute_result",
          "data": {
            "text/plain": [
              "0    [fugitive, japan, lebanon, awkward, position, ...\n",
              "1    [mixed, reaction, news, maj, gen, qassim, sule...\n",
              "2    [bronze, silver, aluminum, statue, idea, solid...\n",
              "Name: Tokens, dtype: object"
            ]
          },
          "metadata": {
            "tags": []
          },
          "execution_count": 13
        }
      ]
    },
    {
      "cell_type": "markdown",
      "metadata": {
        "id": "5mvZh1GpRAIT"
      },
      "source": [
        "#### 단어 빈도에 따라 시각화"
      ]
    },
    {
      "cell_type": "code",
      "metadata": {
        "id": "VeToevWmRCpk"
      },
      "source": [
        "def word_count(docs):\n",
        "   \n",
        "    # 전체 코퍼스에서 단어 빈도 카운트\n",
        "    word_counts = Counter()\n",
        "\n",
        "    # 단어가 존재하는 문서의 빈도 카운트, 단어가 한 번 이상 존재하면 +1\n",
        "    word_in_docs = Counter()\n",
        "\n",
        "    # 전체 문서의 갯수\n",
        "    total_docs = len(docs)\n",
        "\n",
        "    for doc in docs:\n",
        "        word_counts.update(doc)\n",
        "        word_in_docs.update(set(doc))\n",
        "\n",
        "    temp = zip(word_counts.keys(), word_counts.values())\n",
        "\n",
        "    wc = pd.DataFrame(temp, columns = ['word', 'count'])\n",
        "\n",
        "    # 단어의 순위\n",
        "    # method='first': 같은 값의 경우 먼저나온 요소를 우선\n",
        "    wc['rank'] = wc['count'].rank(method='first', ascending=False)\n",
        "    total = wc['count'].sum()\n",
        "\n",
        "    # 코퍼스 내 단어의 비율\n",
        "    wc['percent'] = wc['count'].apply(lambda x: x / total)\n",
        "\n",
        "    wc = wc.sort_values(by='rank')\n",
        "\n",
        "    # 누적 비율\n",
        "    # cumsum() : cumulative sum\n",
        "    wc['cul_percent'] = wc['percent'].cumsum()\n",
        "\n",
        "    temp2 = zip(word_in_docs.keys(), word_in_docs.values())\n",
        "    ac = pd.DataFrame(temp2, columns=['word', 'word_in_docs'])\n",
        "    wc = ac.merge(wc, on='word')\n",
        "    \n",
        "    # 전체 문서 중 존재하는 비율\n",
        "    wc['word_in_docs_percent'] = wc['word_in_docs'].apply(lambda x: x / total_docs)\n",
        "\n",
        "    return wc.sort_values(by='rank')"
      ],
      "execution_count": 14,
      "outputs": []
    },
    {
      "cell_type": "code",
      "metadata": {
        "colab": {
          "base_uri": "https://localhost:8080/"
        },
        "id": "IflUi3YTQ-1j",
        "outputId": "60c7f1c2-91ce-4f0a-bbd8-9a595bf9acd9"
      },
      "source": [
        "from collections import Counter\n",
        "word_counts = Counter()\n",
        "df['Tokens'].apply(lambda x: word_counts.update(x))\n",
        "word_counts.most_common(10)"
      ],
      "execution_count": 15,
      "outputs": [
        {
          "output_type": "execute_result",
          "data": {
            "text/plain": [
              "[('new', 7017),\n",
              " ('coronavirus', 6146),\n",
              " ('trump', 5318),\n",
              " ('president', 4088),\n",
              " ('pandemic', 3023),\n",
              " ('not', 3016),\n",
              " ('state', 2111),\n",
              " ('people', 2090),\n",
              " ('know', 2031),\n",
              " ('need', 2008)]"
            ]
          },
          "metadata": {
            "tags": []
          },
          "execution_count": 15
        }
      ]
    },
    {
      "cell_type": "code",
      "metadata": {
        "colab": {
          "base_uri": "https://localhost:8080/",
          "height": 204
        },
        "id": "GK0GLE8nREaB",
        "outputId": "4a924aec-ecbd-447c-fe2f-d3882f2649fd"
      },
      "source": [
        "wc = word_count(df['Tokens'])\n",
        "wc.head(5)"
      ],
      "execution_count": 16,
      "outputs": [
        {
          "output_type": "execute_result",
          "data": {
            "text/html": [
              "<div>\n",
              "<style scoped>\n",
              "    .dataframe tbody tr th:only-of-type {\n",
              "        vertical-align: middle;\n",
              "    }\n",
              "\n",
              "    .dataframe tbody tr th {\n",
              "        vertical-align: top;\n",
              "    }\n",
              "\n",
              "    .dataframe thead th {\n",
              "        text-align: right;\n",
              "    }\n",
              "</style>\n",
              "<table border=\"1\" class=\"dataframe\">\n",
              "  <thead>\n",
              "    <tr style=\"text-align: right;\">\n",
              "      <th></th>\n",
              "      <th>word</th>\n",
              "      <th>word_in_docs</th>\n",
              "      <th>count</th>\n",
              "      <th>rank</th>\n",
              "      <th>percent</th>\n",
              "      <th>cul_percent</th>\n",
              "      <th>word_in_docs_percent</th>\n",
              "    </tr>\n",
              "  </thead>\n",
              "  <tbody>\n",
              "    <tr>\n",
              "      <th>45</th>\n",
              "      <td>new</td>\n",
              "      <td>6208</td>\n",
              "      <td>7017</td>\n",
              "      <td>1.0</td>\n",
              "      <td>0.009849</td>\n",
              "      <td>0.009849</td>\n",
              "      <td>0.146346</td>\n",
              "    </tr>\n",
              "    <tr>\n",
              "      <th>5481</th>\n",
              "      <td>coronavirus</td>\n",
              "      <td>5754</td>\n",
              "      <td>6146</td>\n",
              "      <td>2.0</td>\n",
              "      <td>0.008626</td>\n",
              "      <td>0.018475</td>\n",
              "      <td>0.135644</td>\n",
              "    </tr>\n",
              "    <tr>\n",
              "      <th>492</th>\n",
              "      <td>trump</td>\n",
              "      <td>4288</td>\n",
              "      <td>5318</td>\n",
              "      <td>3.0</td>\n",
              "      <td>0.007464</td>\n",
              "      <td>0.025939</td>\n",
              "      <td>0.101084</td>\n",
              "    </tr>\n",
              "    <tr>\n",
              "      <th>819</th>\n",
              "      <td>president</td>\n",
              "      <td>3711</td>\n",
              "      <td>4088</td>\n",
              "      <td>4.0</td>\n",
              "      <td>0.005738</td>\n",
              "      <td>0.031677</td>\n",
              "      <td>0.087482</td>\n",
              "    </tr>\n",
              "    <tr>\n",
              "      <th>10599</th>\n",
              "      <td>pandemic</td>\n",
              "      <td>2937</td>\n",
              "      <td>3023</td>\n",
              "      <td>5.0</td>\n",
              "      <td>0.004243</td>\n",
              "      <td>0.035920</td>\n",
              "      <td>0.069236</td>\n",
              "    </tr>\n",
              "  </tbody>\n",
              "</table>\n",
              "</div>"
            ],
            "text/plain": [
              "              word  word_in_docs  ...  cul_percent  word_in_docs_percent\n",
              "45             new          6208  ...     0.009849              0.146346\n",
              "5481   coronavirus          5754  ...     0.018475              0.135644\n",
              "492          trump          4288  ...     0.025939              0.101084\n",
              "819      president          3711  ...     0.031677              0.087482\n",
              "10599     pandemic          2937  ...     0.035920              0.069236\n",
              "\n",
              "[5 rows x 7 columns]"
            ]
          },
          "metadata": {
            "tags": []
          },
          "execution_count": 16
        }
      ]
    },
    {
      "cell_type": "code",
      "metadata": {
        "colab": {
          "base_uri": "https://localhost:8080/",
          "height": 264
        },
        "id": "hr4WIVLiRKZx",
        "outputId": "fc698186-8412-4eda-c9fc-21d26ca2b5f0"
      },
      "source": [
        "import squarify\n",
        "import matplotlib.pyplot as plt\n",
        "\n",
        "colors=['springgreen','violet','dodgerblue','gold','wheat','lightcoral',\n",
        "        'mediumslateblue','greenyellow','aquamarine','deeppink']\n",
        "\n",
        "wc_top5 = wc[wc['rank'] <= 10]\n",
        "squarify.plot(sizes=wc_top5['percent'], label=wc_top5['word'], alpha=0.6, color=colors)\n",
        "plt.axis('off')\n",
        "plt.title('Token Top 10')\n",
        "plt.show()"
      ],
      "execution_count": 17,
      "outputs": [
        {
          "output_type": "display_data",
          "data": {
            "image/png": "[encoded data removed]",
            "text/plain": [
              "<Figure size 432x288 with 1 Axes>"
            ]
          },
          "metadata": {
            "tags": [],
            "needs_background": "light"
          }
        }
      ]
    },
    {
      "cell_type": "code",
      "metadata": {
        "colab": {
          "base_uri": "https://localhost:8080/",
          "height": 295
        },
        "id": "NUHmxIeXQQr9",
        "outputId": "9e1f0b51-fe4a-440a-d6ae-2585a1518a98"
      },
      "source": [
        "sns.barplot(x=wc['count'][:10],y=wc['word'][:10],orient='h')\n",
        "plt.title('Token Top 10')\n",
        "plt.show()"
      ],
      "execution_count": 18,
      "outputs": [
        {
          "output_type": "display_data",
          "data": {
            "image/png": "[encoded data removed]",
            "text/plain": [
              "<Figure size 432x288 with 1 Axes>"
            ]
          },
          "metadata": {
            "tags": [],
            "needs_background": "light"
          }
        }
      ]
    },
    {
      "cell_type": "markdown",
      "metadata": {
        "id": "rlz1p6DTm1ul"
      },
      "source": [
        "#### KNN + TfidVectorizer "
      ]
    },
    {
      "cell_type": "code",
      "metadata": {
        "colab": {
          "base_uri": "https://localhost:8080/"
        },
        "id": "hVJUNp-knIQK",
        "outputId": "d6d7ba48-a54e-4bac-875a-b89d7e0f7d0c"
      },
      "source": [
        "from sklearn.feature_extraction.text import TfidfVectorizer\n",
        "tfidf = TfidfVectorizer(stop_words=st_words\n",
        "                        ,tokenizer=tokenize\n",
        "                        ,ngram_range = (1,2)\n",
        "                        ,max_features = 5000\n",
        "                        )\n",
        "dtm = tfidf.fit_transform(df['sentence'])\n",
        "dtm = pd.DataFrame(dtm.todense(), columns=tfidf.get_feature_names())"
      ],
      "execution_count": 19,
      "outputs": [
        {
          "output_type": "stream",
          "text": [
            "/usr/local/lib/python3.7/dist-packages/sklearn/feature_extraction/text.py:385: UserWarning: Your stop_words may be inconsistent with your preprocessing. Tokenizing the stop words generated tokens ['d', 'm', 'nt', 's', 've'] not in stop_words.\n",
            "  'stop_words.' % sorted(inconsistent))\n"
          ],
          "name": "stderr"
        }
      ]
    },
    {
      "cell_type": "code",
      "metadata": {
        "colab": {
          "base_uri": "https://localhost:8080/",
          "height": 270
        },
        "id": "-xI6L090qoci",
        "outputId": "3a1374e5-31db-4737-ca6e-a3720a69522d"
      },
      "source": [
        "dtm.head()"
      ],
      "execution_count": 20,
      "outputs": [
        {
          "output_type": "execute_result",
          "data": {
            "text/html": [
              "<div>\n",
              "<style scoped>\n",
              "    .dataframe tbody tr th:only-of-type {\n",
              "        vertical-align: middle;\n",
              "    }\n",
              "\n",
              "    .dataframe tbody tr th {\n",
              "        vertical-align: top;\n",
              "    }\n",
              "\n",
              "    .dataframe thead th {\n",
              "        text-align: right;\n",
              "    }\n",
              "</style>\n",
              "<table border=\"1\" class=\"dataframe\">\n",
              "  <thead>\n",
              "    <tr style=\"text-align: right;\">\n",
              "      <th></th>\n",
              "      <th>aaron</th>\n",
              "      <th>abandon</th>\n",
              "      <th>abc</th>\n",
              "      <th>ability</th>\n",
              "      <th>able</th>\n",
              "      <th>aboard</th>\n",
              "      <th>abortion</th>\n",
              "      <th>abroad</th>\n",
              "      <th>abruptly</th>\n",
              "      <th>absence</th>\n",
              "      <th>absentee</th>\n",
              "      <th>absentee ballot</th>\n",
              "      <th>abuse</th>\n",
              "      <th>academic</th>\n",
              "      <th>academy</th>\n",
              "      <th>accelerate</th>\n",
              "      <th>accept</th>\n",
              "      <th>acceptance</th>\n",
              "      <th>access</th>\n",
              "      <th>accident</th>\n",
              "      <th>acclaim</th>\n",
              "      <th>accord</th>\n",
              "      <th>accord new</th>\n",
              "      <th>account</th>\n",
              "      <th>accountability</th>\n",
              "      <th>accurate</th>\n",
              "      <th>accusation</th>\n",
              "      <th>accuse</th>\n",
              "      <th>accuser</th>\n",
              "      <th>ace</th>\n",
              "      <th>achieve</th>\n",
              "      <th>achievement</th>\n",
              "      <th>acknowledge</th>\n",
              "      <th>acquire</th>\n",
              "      <th>acquit</th>\n",
              "      <th>acquittal</th>\n",
              "      <th>acre</th>\n",
              "      <th>act</th>\n",
              "      <th>action</th>\n",
              "      <th>active</th>\n",
              "      <th>...</th>\n",
              "      <th>world war</th>\n",
              "      <th>worldwide</th>\n",
              "      <th>worried</th>\n",
              "      <th>worry</th>\n",
              "      <th>worsen</th>\n",
              "      <th>worth</th>\n",
              "      <th>wound</th>\n",
              "      <th>wrap</th>\n",
              "      <th>wrestle</th>\n",
              "      <th>write</th>\n",
              "      <th>write book</th>\n",
              "      <th>writer</th>\n",
              "      <th>writing</th>\n",
              "      <th>writing prompt</th>\n",
              "      <th>wrong</th>\n",
              "      <th>wuhan</th>\n",
              "      <th>x</th>\n",
              "      <th>xi</th>\n",
              "      <th>yang</th>\n",
              "      <th>yankees</th>\n",
              "      <th>yard</th>\n",
              "      <th>yemen</th>\n",
              "      <th>yes</th>\n",
              "      <th>yield</th>\n",
              "      <th>yorker</th>\n",
              "      <th>yorkers</th>\n",
              "      <th>yorks</th>\n",
              "      <th>young</th>\n",
              "      <th>young adult</th>\n",
              "      <th>young child</th>\n",
              "      <th>young people</th>\n",
              "      <th>young woman</th>\n",
              "      <th>youth</th>\n",
              "      <th>youtube</th>\n",
              "      <th>zealand</th>\n",
              "      <th>zero</th>\n",
              "      <th>zone</th>\n",
              "      <th>zoo</th>\n",
              "      <th>zoom</th>\n",
              "      <th>zuckerberg</th>\n",
              "    </tr>\n",
              "  </thead>\n",
              "  <tbody>\n",
              "    <tr>\n",
              "      <th>0</th>\n",
              "      <td>0.0</td>\n",
              "      <td>0.0</td>\n",
              "      <td>0.0</td>\n",
              "      <td>0.0</td>\n",
              "      <td>0.0</td>\n",
              "      <td>0.0</td>\n",
              "      <td>0.0</td>\n",
              "      <td>0.0</td>\n",
              "      <td>0.0</td>\n",
              "      <td>0.0</td>\n",
              "      <td>0.0</td>\n",
              "      <td>0.0</td>\n",
              "      <td>0.0</td>\n",
              "      <td>0.0</td>\n",
              "      <td>0.0</td>\n",
              "      <td>0.0</td>\n",
              "      <td>0.0</td>\n",
              "      <td>0.0</td>\n",
              "      <td>0.0</td>\n",
              "      <td>0.0</td>\n",
              "      <td>0.0</td>\n",
              "      <td>0.0</td>\n",
              "      <td>0.0</td>\n",
              "      <td>0.0</td>\n",
              "      <td>0.0</td>\n",
              "      <td>0.0</td>\n",
              "      <td>0.0</td>\n",
              "      <td>0.000000</td>\n",
              "      <td>0.0</td>\n",
              "      <td>0.0</td>\n",
              "      <td>0.0</td>\n",
              "      <td>0.0</td>\n",
              "      <td>0.0</td>\n",
              "      <td>0.0</td>\n",
              "      <td>0.0</td>\n",
              "      <td>0.0</td>\n",
              "      <td>0.0</td>\n",
              "      <td>0.0</td>\n",
              "      <td>0.0</td>\n",
              "      <td>0.0</td>\n",
              "      <td>...</td>\n",
              "      <td>0.0</td>\n",
              "      <td>0.0</td>\n",
              "      <td>0.0</td>\n",
              "      <td>0.0</td>\n",
              "      <td>0.0</td>\n",
              "      <td>0.0</td>\n",
              "      <td>0.0</td>\n",
              "      <td>0.0</td>\n",
              "      <td>0.0</td>\n",
              "      <td>0.0</td>\n",
              "      <td>0.0</td>\n",
              "      <td>0.0</td>\n",
              "      <td>0.0</td>\n",
              "      <td>0.0</td>\n",
              "      <td>0.0</td>\n",
              "      <td>0.0</td>\n",
              "      <td>0.0</td>\n",
              "      <td>0.0</td>\n",
              "      <td>0.0</td>\n",
              "      <td>0.0</td>\n",
              "      <td>0.0</td>\n",
              "      <td>0.0</td>\n",
              "      <td>0.0</td>\n",
              "      <td>0.0</td>\n",
              "      <td>0.0</td>\n",
              "      <td>0.0</td>\n",
              "      <td>0.0</td>\n",
              "      <td>0.0</td>\n",
              "      <td>0.0</td>\n",
              "      <td>0.0</td>\n",
              "      <td>0.0</td>\n",
              "      <td>0.0</td>\n",
              "      <td>0.0</td>\n",
              "      <td>0.0</td>\n",
              "      <td>0.0</td>\n",
              "      <td>0.0</td>\n",
              "      <td>0.0</td>\n",
              "      <td>0.0</td>\n",
              "      <td>0.0</td>\n",
              "      <td>0.0</td>\n",
              "    </tr>\n",
              "    <tr>\n",
              "      <th>1</th>\n",
              "      <td>0.0</td>\n",
              "      <td>0.0</td>\n",
              "      <td>0.0</td>\n",
              "      <td>0.0</td>\n",
              "      <td>0.0</td>\n",
              "      <td>0.0</td>\n",
              "      <td>0.0</td>\n",
              "      <td>0.0</td>\n",
              "      <td>0.0</td>\n",
              "      <td>0.0</td>\n",
              "      <td>0.0</td>\n",
              "      <td>0.0</td>\n",
              "      <td>0.0</td>\n",
              "      <td>0.0</td>\n",
              "      <td>0.0</td>\n",
              "      <td>0.0</td>\n",
              "      <td>0.0</td>\n",
              "      <td>0.0</td>\n",
              "      <td>0.0</td>\n",
              "      <td>0.0</td>\n",
              "      <td>0.0</td>\n",
              "      <td>0.0</td>\n",
              "      <td>0.0</td>\n",
              "      <td>0.0</td>\n",
              "      <td>0.0</td>\n",
              "      <td>0.0</td>\n",
              "      <td>0.0</td>\n",
              "      <td>0.000000</td>\n",
              "      <td>0.0</td>\n",
              "      <td>0.0</td>\n",
              "      <td>0.0</td>\n",
              "      <td>0.0</td>\n",
              "      <td>0.0</td>\n",
              "      <td>0.0</td>\n",
              "      <td>0.0</td>\n",
              "      <td>0.0</td>\n",
              "      <td>0.0</td>\n",
              "      <td>0.0</td>\n",
              "      <td>0.0</td>\n",
              "      <td>0.0</td>\n",
              "      <td>...</td>\n",
              "      <td>0.0</td>\n",
              "      <td>0.0</td>\n",
              "      <td>0.0</td>\n",
              "      <td>0.0</td>\n",
              "      <td>0.0</td>\n",
              "      <td>0.0</td>\n",
              "      <td>0.0</td>\n",
              "      <td>0.0</td>\n",
              "      <td>0.0</td>\n",
              "      <td>0.0</td>\n",
              "      <td>0.0</td>\n",
              "      <td>0.0</td>\n",
              "      <td>0.0</td>\n",
              "      <td>0.0</td>\n",
              "      <td>0.0</td>\n",
              "      <td>0.0</td>\n",
              "      <td>0.0</td>\n",
              "      <td>0.0</td>\n",
              "      <td>0.0</td>\n",
              "      <td>0.0</td>\n",
              "      <td>0.0</td>\n",
              "      <td>0.0</td>\n",
              "      <td>0.0</td>\n",
              "      <td>0.0</td>\n",
              "      <td>0.0</td>\n",
              "      <td>0.0</td>\n",
              "      <td>0.0</td>\n",
              "      <td>0.0</td>\n",
              "      <td>0.0</td>\n",
              "      <td>0.0</td>\n",
              "      <td>0.0</td>\n",
              "      <td>0.0</td>\n",
              "      <td>0.0</td>\n",
              "      <td>0.0</td>\n",
              "      <td>0.0</td>\n",
              "      <td>0.0</td>\n",
              "      <td>0.0</td>\n",
              "      <td>0.0</td>\n",
              "      <td>0.0</td>\n",
              "      <td>0.0</td>\n",
              "    </tr>\n",
              "    <tr>\n",
              "      <th>2</th>\n",
              "      <td>0.0</td>\n",
              "      <td>0.0</td>\n",
              "      <td>0.0</td>\n",
              "      <td>0.0</td>\n",
              "      <td>0.0</td>\n",
              "      <td>0.0</td>\n",
              "      <td>0.0</td>\n",
              "      <td>0.0</td>\n",
              "      <td>0.0</td>\n",
              "      <td>0.0</td>\n",
              "      <td>0.0</td>\n",
              "      <td>0.0</td>\n",
              "      <td>0.0</td>\n",
              "      <td>0.0</td>\n",
              "      <td>0.0</td>\n",
              "      <td>0.0</td>\n",
              "      <td>0.0</td>\n",
              "      <td>0.0</td>\n",
              "      <td>0.0</td>\n",
              "      <td>0.0</td>\n",
              "      <td>0.0</td>\n",
              "      <td>0.0</td>\n",
              "      <td>0.0</td>\n",
              "      <td>0.0</td>\n",
              "      <td>0.0</td>\n",
              "      <td>0.0</td>\n",
              "      <td>0.0</td>\n",
              "      <td>0.000000</td>\n",
              "      <td>0.0</td>\n",
              "      <td>0.0</td>\n",
              "      <td>0.0</td>\n",
              "      <td>0.0</td>\n",
              "      <td>0.0</td>\n",
              "      <td>0.0</td>\n",
              "      <td>0.0</td>\n",
              "      <td>0.0</td>\n",
              "      <td>0.0</td>\n",
              "      <td>0.0</td>\n",
              "      <td>0.0</td>\n",
              "      <td>0.0</td>\n",
              "      <td>...</td>\n",
              "      <td>0.0</td>\n",
              "      <td>0.0</td>\n",
              "      <td>0.0</td>\n",
              "      <td>0.0</td>\n",
              "      <td>0.0</td>\n",
              "      <td>0.0</td>\n",
              "      <td>0.0</td>\n",
              "      <td>0.0</td>\n",
              "      <td>0.0</td>\n",
              "      <td>0.0</td>\n",
              "      <td>0.0</td>\n",
              "      <td>0.0</td>\n",
              "      <td>0.0</td>\n",
              "      <td>0.0</td>\n",
              "      <td>0.0</td>\n",
              "      <td>0.0</td>\n",
              "      <td>0.0</td>\n",
              "      <td>0.0</td>\n",
              "      <td>0.0</td>\n",
              "      <td>0.0</td>\n",
              "      <td>0.0</td>\n",
              "      <td>0.0</td>\n",
              "      <td>0.0</td>\n",
              "      <td>0.0</td>\n",
              "      <td>0.0</td>\n",
              "      <td>0.0</td>\n",
              "      <td>0.0</td>\n",
              "      <td>0.0</td>\n",
              "      <td>0.0</td>\n",
              "      <td>0.0</td>\n",
              "      <td>0.0</td>\n",
              "      <td>0.0</td>\n",
              "      <td>0.0</td>\n",
              "      <td>0.0</td>\n",
              "      <td>0.0</td>\n",
              "      <td>0.0</td>\n",
              "      <td>0.0</td>\n",
              "      <td>0.0</td>\n",
              "      <td>0.0</td>\n",
              "      <td>0.0</td>\n",
              "    </tr>\n",
              "    <tr>\n",
              "      <th>3</th>\n",
              "      <td>0.0</td>\n",
              "      <td>0.0</td>\n",
              "      <td>0.0</td>\n",
              "      <td>0.0</td>\n",
              "      <td>0.0</td>\n",
              "      <td>0.0</td>\n",
              "      <td>0.0</td>\n",
              "      <td>0.0</td>\n",
              "      <td>0.0</td>\n",
              "      <td>0.0</td>\n",
              "      <td>0.0</td>\n",
              "      <td>0.0</td>\n",
              "      <td>0.0</td>\n",
              "      <td>0.0</td>\n",
              "      <td>0.0</td>\n",
              "      <td>0.0</td>\n",
              "      <td>0.0</td>\n",
              "      <td>0.0</td>\n",
              "      <td>0.0</td>\n",
              "      <td>0.0</td>\n",
              "      <td>0.0</td>\n",
              "      <td>0.0</td>\n",
              "      <td>0.0</td>\n",
              "      <td>0.0</td>\n",
              "      <td>0.0</td>\n",
              "      <td>0.0</td>\n",
              "      <td>0.0</td>\n",
              "      <td>0.000000</td>\n",
              "      <td>0.0</td>\n",
              "      <td>0.0</td>\n",
              "      <td>0.0</td>\n",
              "      <td>0.0</td>\n",
              "      <td>0.0</td>\n",
              "      <td>0.0</td>\n",
              "      <td>0.0</td>\n",
              "      <td>0.0</td>\n",
              "      <td>0.0</td>\n",
              "      <td>0.0</td>\n",
              "      <td>0.0</td>\n",
              "      <td>0.0</td>\n",
              "      <td>...</td>\n",
              "      <td>0.0</td>\n",
              "      <td>0.0</td>\n",
              "      <td>0.0</td>\n",
              "      <td>0.0</td>\n",
              "      <td>0.0</td>\n",
              "      <td>0.0</td>\n",
              "      <td>0.0</td>\n",
              "      <td>0.0</td>\n",
              "      <td>0.0</td>\n",
              "      <td>0.0</td>\n",
              "      <td>0.0</td>\n",
              "      <td>0.0</td>\n",
              "      <td>0.0</td>\n",
              "      <td>0.0</td>\n",
              "      <td>0.0</td>\n",
              "      <td>0.0</td>\n",
              "      <td>0.0</td>\n",
              "      <td>0.0</td>\n",
              "      <td>0.0</td>\n",
              "      <td>0.0</td>\n",
              "      <td>0.0</td>\n",
              "      <td>0.0</td>\n",
              "      <td>0.0</td>\n",
              "      <td>0.0</td>\n",
              "      <td>0.0</td>\n",
              "      <td>0.0</td>\n",
              "      <td>0.0</td>\n",
              "      <td>0.0</td>\n",
              "      <td>0.0</td>\n",
              "      <td>0.0</td>\n",
              "      <td>0.0</td>\n",
              "      <td>0.0</td>\n",
              "      <td>0.0</td>\n",
              "      <td>0.0</td>\n",
              "      <td>0.0</td>\n",
              "      <td>0.0</td>\n",
              "      <td>0.0</td>\n",
              "      <td>0.0</td>\n",
              "      <td>0.0</td>\n",
              "      <td>0.0</td>\n",
              "    </tr>\n",
              "    <tr>\n",
              "      <th>4</th>\n",
              "      <td>0.0</td>\n",
              "      <td>0.0</td>\n",
              "      <td>0.0</td>\n",
              "      <td>0.0</td>\n",
              "      <td>0.0</td>\n",
              "      <td>0.0</td>\n",
              "      <td>0.0</td>\n",
              "      <td>0.0</td>\n",
              "      <td>0.0</td>\n",
              "      <td>0.0</td>\n",
              "      <td>0.0</td>\n",
              "      <td>0.0</td>\n",
              "      <td>0.0</td>\n",
              "      <td>0.0</td>\n",
              "      <td>0.0</td>\n",
              "      <td>0.0</td>\n",
              "      <td>0.0</td>\n",
              "      <td>0.0</td>\n",
              "      <td>0.0</td>\n",
              "      <td>0.0</td>\n",
              "      <td>0.0</td>\n",
              "      <td>0.0</td>\n",
              "      <td>0.0</td>\n",
              "      <td>0.0</td>\n",
              "      <td>0.0</td>\n",
              "      <td>0.0</td>\n",
              "      <td>0.0</td>\n",
              "      <td>0.215219</td>\n",
              "      <td>0.0</td>\n",
              "      <td>0.0</td>\n",
              "      <td>0.0</td>\n",
              "      <td>0.0</td>\n",
              "      <td>0.0</td>\n",
              "      <td>0.0</td>\n",
              "      <td>0.0</td>\n",
              "      <td>0.0</td>\n",
              "      <td>0.0</td>\n",
              "      <td>0.0</td>\n",
              "      <td>0.0</td>\n",
              "      <td>0.0</td>\n",
              "      <td>...</td>\n",
              "      <td>0.0</td>\n",
              "      <td>0.0</td>\n",
              "      <td>0.0</td>\n",
              "      <td>0.0</td>\n",
              "      <td>0.0</td>\n",
              "      <td>0.0</td>\n",
              "      <td>0.0</td>\n",
              "      <td>0.0</td>\n",
              "      <td>0.0</td>\n",
              "      <td>0.0</td>\n",
              "      <td>0.0</td>\n",
              "      <td>0.0</td>\n",
              "      <td>0.0</td>\n",
              "      <td>0.0</td>\n",
              "      <td>0.0</td>\n",
              "      <td>0.0</td>\n",
              "      <td>0.0</td>\n",
              "      <td>0.0</td>\n",
              "      <td>0.0</td>\n",
              "      <td>0.0</td>\n",
              "      <td>0.0</td>\n",
              "      <td>0.0</td>\n",
              "      <td>0.0</td>\n",
              "      <td>0.0</td>\n",
              "      <td>0.0</td>\n",
              "      <td>0.0</td>\n",
              "      <td>0.0</td>\n",
              "      <td>0.0</td>\n",
              "      <td>0.0</td>\n",
              "      <td>0.0</td>\n",
              "      <td>0.0</td>\n",
              "      <td>0.0</td>\n",
              "      <td>0.0</td>\n",
              "      <td>0.0</td>\n",
              "      <td>0.0</td>\n",
              "      <td>0.0</td>\n",
              "      <td>0.0</td>\n",
              "      <td>0.0</td>\n",
              "      <td>0.0</td>\n",
              "      <td>0.0</td>\n",
              "    </tr>\n",
              "  </tbody>\n",
              "</table>\n",
              "<p>5 rows × 5000 columns</p>\n",
              "</div>"
            ],
            "text/plain": [
              "   aaron  abandon  abc  ability  able  ...  zero  zone  zoo  zoom  zuckerberg\n",
              "0    0.0      0.0  0.0      0.0   0.0  ...   0.0   0.0  0.0   0.0         0.0\n",
              "1    0.0      0.0  0.0      0.0   0.0  ...   0.0   0.0  0.0   0.0         0.0\n",
              "2    0.0      0.0  0.0      0.0   0.0  ...   0.0   0.0  0.0   0.0         0.0\n",
              "3    0.0      0.0  0.0      0.0   0.0  ...   0.0   0.0  0.0   0.0         0.0\n",
              "4    0.0      0.0  0.0      0.0   0.0  ...   0.0   0.0  0.0   0.0         0.0\n",
              "\n",
              "[5 rows x 5000 columns]"
            ]
          },
          "metadata": {
            "tags": []
          },
          "execution_count": 20
        }
      ]
    },
    {
      "cell_type": "code",
      "metadata": {
        "colab": {
          "base_uri": "https://localhost:8080/"
        },
        "id": "Rei9OJWdnEgl",
        "outputId": "ee234b75-c9cf-4027-df64-6e1a37393caa"
      },
      "source": [
        "from sklearn.neighbors import NearestNeighbors\n",
        "nn = NearestNeighbors(n_neighbors=5, algorithm='kd_tree') #최근접 5이웃\n",
        "nn.fit(dtm)"
      ],
      "execution_count": 21,
      "outputs": [
        {
          "output_type": "execute_result",
          "data": {
            "text/plain": [
              "NearestNeighbors(algorithm='kd_tree', leaf_size=30, metric='minkowski',\n",
              "                 metric_params=None, n_jobs=None, n_neighbors=5, p=2,\n",
              "                 radius=1.0)"
            ]
          },
          "metadata": {
            "tags": []
          },
          "execution_count": 21
        }
      ]
    },
    {
      "cell_type": "code",
      "metadata": {
        "colab": {
          "base_uri": "https://localhost:8080/"
        },
        "id": "iTYYrqpjniSE",
        "outputId": "f525c0e7-e428-4464-e802-9e092e12f440"
      },
      "source": [
        "result = nn.kneighbors([dtm.iloc[10000]])\n",
        "result"
      ],
      "execution_count": 22,
      "outputs": [
        {
          "output_type": "execute_result",
          "data": {
            "text/plain": [
              "(array([[0.        , 1.        , 1.        , 1.        , 1.16302513]]),\n",
              " array([[10000,  5144, 10509, 35412, 15591]]))"
            ]
          },
          "metadata": {
            "tags": []
          },
          "execution_count": 22
        }
      ]
    },
    {
      "cell_type": "code",
      "metadata": {
        "colab": {
          "base_uri": "https://localhost:8080/",
          "height": 204
        },
        "id": "zfwugSbHnx-Y",
        "outputId": "a7108df2-60ae-44c0-f107-4923bab14281"
      },
      "source": [
        "df.iloc[result[1][0]]"
      ],
      "execution_count": 23,
      "outputs": [
        {
          "output_type": "execute_result",
          "data": {
            "text/html": [
              "<div>\n",
              "<style scoped>\n",
              "    .dataframe tbody tr th:only-of-type {\n",
              "        vertical-align: middle;\n",
              "    }\n",
              "\n",
              "    .dataframe tbody tr th {\n",
              "        vertical-align: top;\n",
              "    }\n",
              "\n",
              "    .dataframe thead th {\n",
              "        text-align: right;\n",
              "    }\n",
              "</style>\n",
              "<table border=\"1\" class=\"dataframe\">\n",
              "  <thead>\n",
              "    <tr style=\"text-align: right;\">\n",
              "      <th></th>\n",
              "      <th>sentence</th>\n",
              "      <th>Tokens</th>\n",
              "    </tr>\n",
              "  </thead>\n",
              "  <tbody>\n",
              "    <tr>\n",
              "      <th>16469</th>\n",
              "      <td>Neighboring Iran, badly hit by the virus, cont...</td>\n",
              "      <td>[neighbor, iran, badly, hit, virus, continue, ...</td>\n",
              "    </tr>\n",
              "    <tr>\n",
              "      <th>7717</th>\n",
              "      <td>What is this illustration saying? Maze</td>\n",
              "      <td>[illustration, say, maze]</td>\n",
              "    </tr>\n",
              "    <tr>\n",
              "      <th>17301</th>\n",
              "      <td>No. Should I Still Be Going Out?</td>\n",
              "      <td>[go]</td>\n",
              "    </tr>\n",
              "    <tr>\n",
              "      <th>58484</th>\n",
              "      <td>Dani Raymon bamboozles us. Puns and Anagrams</td>\n",
              "      <td>[dani, raymon, bamboozle, pun, anagram]</td>\n",
              "    </tr>\n",
              "    <tr>\n",
              "      <th>26540</th>\n",
              "      <td>For this issue, a look at Afghanistan as the v...</td>\n",
              "      <td>[issue, look, afghanistan, virus, threaten, ex...</td>\n",
              "    </tr>\n",
              "  </tbody>\n",
              "</table>\n",
              "</div>"
            ],
            "text/plain": [
              "                                                sentence                                             Tokens\n",
              "16469  Neighboring Iran, badly hit by the virus, cont...  [neighbor, iran, badly, hit, virus, continue, ...\n",
              "7717              What is this illustration saying? Maze                          [illustration, say, maze]\n",
              "17301                   No. Should I Still Be Going Out?                                               [go]\n",
              "58484       Dani Raymon bamboozles us. Puns and Anagrams            [dani, raymon, bamboozle, pun, anagram]\n",
              "26540  For this issue, a look at Afghanistan as the v...  [issue, look, afghanistan, virus, threaten, ex..."
            ]
          },
          "metadata": {
            "tags": []
          },
          "execution_count": 23
        }
      ]
    },
    {
      "cell_type": "code",
      "metadata": {
        "colab": {
          "base_uri": "https://localhost:8080/"
        },
        "id": "IeB9nDmelLVr",
        "outputId": "e8b730c3-e757-4814-dc77-55a228b2c5b1"
      },
      "source": [
        "pd.set_option('display.max_rows', None)\n",
        "pd.set_option('display.max_columns', None)\n",
        "pd.set_option('display.width', None)\n",
        "pd.set_option('display.max_colwidth', -1)\n",
        "print(df['sentence'].iloc[result[1][0]])"
      ],
      "execution_count": 24,
      "outputs": [
        {
          "output_type": "stream",
          "text": [
            "16469    Neighboring Iran, badly hit by the virus, continues to allow thousands of people to cross into Afghanistan daily despite requests to close the border. In Afghanistan, Coronavirus Complicates War and Peace\n",
            "7717     What is this illustration saying? Maze                                                                                                                                                                      \n",
            "17301    No. Should I Still Be Going Out?                                                                                                                                                                            \n",
            "58484    Dani Raymon bamboozles us. Puns and Anagrams                                                                                                                                                                \n",
            "26540    For this issue, a look at Afghanistan as the virus threatens to explode with few resources to contain it. Behind the Cover: Afghanistanâs Next War                                                        \n",
            "Name: sentence, dtype: object\n"
          ],
          "name": "stdout"
        },
        {
          "output_type": "stream",
          "text": [
            "/usr/local/lib/python3.7/dist-packages/ipykernel_launcher.py:4: FutureWarning: Passing a negative integer is deprecated in version 1.0 and will not be supported in future version. Instead, use None to not limit the column width.\n",
            "  after removing the cwd from sys.path.\n"
          ],
          "name": "stderr"
        }
      ]
    },
    {
      "cell_type": "markdown",
      "metadata": {
        "id": "NJuunYnOpoOS"
      },
      "source": [
        "10000번째 기사를 읽었다면 16469, 77117, 17301, 58484, 26540 번째의 기사가 추천된다.\n",
        "주로 전쟁에 관한 기사들이 추천되는 것을 볼 수 있다. "
      ]
    },
    {
      "cell_type": "markdown",
      "metadata": {
        "id": "bZ0d7vj5kOC-"
      },
      "source": [
        "#### 특정 주제에 관한 기사들을 분류하는 모델 만들기 - coronavirus에 대한 기사"
      ]
    },
    {
      "cell_type": "markdown",
      "metadata": {
        "id": "lzaX5Pu69A-h"
      },
      "source": [
        "**타겟 라벨 만들기**"
      ]
    },
    {
      "cell_type": "code",
      "metadata": {
        "id": "czc-DGAaE8NI"
      },
      "source": [
        "for row in df['sentence']:\n",
        "  df['sentence'] = df['sentence'].str.lower()"
      ],
      "execution_count": 25,
      "outputs": []
    },
    {
      "cell_type": "code",
      "metadata": {
        "id": "RLyxSaLP6aiW"
      },
      "source": [
        "corona = df['sentence'].str.contains('coronavirus')\n",
        "df['label'] = corona"
      ],
      "execution_count": 26,
      "outputs": []
    },
    {
      "cell_type": "code",
      "metadata": {
        "id": "UiTmfbdQ8nMW"
      },
      "source": [
        "df['label'] = df['label'].astype(int)"
      ],
      "execution_count": 27,
      "outputs": []
    },
    {
      "cell_type": "code",
      "metadata": {
        "colab": {
          "base_uri": "https://localhost:8080/"
        },
        "id": "JPwELOts8Hrv",
        "outputId": "80052b7f-1e8e-42be-e60c-bcb603c84cf5"
      },
      "source": [
        "df.info()"
      ],
      "execution_count": 28,
      "outputs": [
        {
          "output_type": "stream",
          "text": [
            "<class 'pandas.core.frame.DataFrame'>\n",
            "Int64Index: 42420 entries, 0 to 69113\n",
            "Data columns (total 3 columns):\n",
            " #   Column    Non-Null Count  Dtype \n",
            "---  ------    --------------  ----- \n",
            " 0   sentence  42420 non-null  object\n",
            " 1   Tokens    42420 non-null  object\n",
            " 2   label     42420 non-null  int64 \n",
            "dtypes: int64(1), object(2)\n",
            "memory usage: 1.3+ MB\n"
          ],
          "name": "stdout"
        }
      ]
    },
    {
      "cell_type": "code",
      "metadata": {
        "colab": {
          "base_uri": "https://localhost:8080/"
        },
        "id": "44BIZED750Nj",
        "outputId": "b5b5c63d-6ce3-4f66-f04f-a5e55edbadc0"
      },
      "source": [
        "df['label'].value_counts()"
      ],
      "execution_count": 29,
      "outputs": [
        {
          "output_type": "execute_result",
          "data": {
            "text/plain": [
              "0    36616\n",
              "1    5804 \n",
              "Name: label, dtype: int64"
            ]
          },
          "metadata": {
            "tags": []
          },
          "execution_count": 29
        }
      ]
    },
    {
      "cell_type": "markdown",
      "metadata": {
        "id": "Qg27AFQf9tft"
      },
      "source": [
        "**훈련, 테스트셋 분리**"
      ]
    },
    {
      "cell_type": "code",
      "metadata": {
        "colab": {
          "base_uri": "https://localhost:8080/"
        },
        "id": "5AVYTeV09MyG",
        "outputId": "680295b3-e32b-4f88-f4ae-d89de1a978c1"
      },
      "source": [
        "from sklearn.model_selection import train_test_split\n",
        "\n",
        "train = df['sentence']\n",
        "target = df['label']\n",
        "\n",
        "x_train, x_test, y_train, y_test = train_test_split(train, target, test_size = 0.3, random_state = 11)\n",
        "\n",
        "x_train.shape, x_test.shape, y_train.shape, y_test.shape"
      ],
      "execution_count": 33,
      "outputs": [
        {
          "output_type": "execute_result",
          "data": {
            "text/plain": [
              "((29694,), (12726,), (29694,), (12726,))"
            ]
          },
          "metadata": {
            "tags": []
          },
          "execution_count": 33
        }
      ]
    },
    {
      "cell_type": "markdown",
      "metadata": {
        "id": "YihN8rMxOcEA"
      },
      "source": [
        "**Pipeline**"
      ]
    },
    {
      "cell_type": "code",
      "metadata": {
        "id": "gPti9_xPJK6g"
      },
      "source": [
        "import numpy as np\n",
        "import scipy.stats as stats\n",
        "from sklearn.model_selection import RandomizedSearchCV\n",
        "from sklearn.model_selection import GridSearchCV\n",
        "from sklearn.ensemble import RandomForestClassifier\n",
        "from sklearn.pipeline import Pipeline\n",
        "from sklearn.feature_extraction.text import TfidfVectorizer\n",
        "# SVD를 사용한 차원 축소\n",
        "from sklearn.decomposition import TruncatedSVD\n",
        "\n",
        "vect = TfidfVectorizer(stop_words=st_words\n",
        "                       , ngram_range=(1,2)\n",
        "                       , min_df=2\n",
        "                       , max_df=0.7\n",
        "                        ,tokenizer=tokenize\n",
        "                       , max_features=10000\n",
        "                      )\n",
        "\n",
        "svd = TruncatedSVD(algorithm='randomized'\n",
        "                   , n_iter=5\n",
        "                   , random_state=11)\n",
        "\n",
        "clf = RandomForestClassifier(n_estimators=500\n",
        "                             , random_state=11)\n",
        "\n",
        "pipe = Pipeline([\n",
        "  ('vect', vect)\n",
        "  , ('svd', svd)\n",
        "  , ('clf', clf)\n",
        "])"
      ],
      "execution_count": 35,
      "outputs": []
    },
    {
      "cell_type": "code",
      "metadata": {
        "id": "kJP7dUOAJ8KE",
        "outputId": "8adedfeb-6d62-495a-98bf-7978f5284a4e",
        "colab": {
          "base_uri": "https://localhost:8080/"
        }
      },
      "source": [
        "pipe.fit(x_train,y_train)"
      ],
      "execution_count": 36,
      "outputs": [
        {
          "output_type": "stream",
          "text": [
            "/usr/local/lib/python3.7/dist-packages/sklearn/feature_extraction/text.py:385: UserWarning: Your stop_words may be inconsistent with your preprocessing. Tokenizing the stop words generated tokens ['d', 'm', 'nt', 's', 've'] not in stop_words.\n",
            "  'stop_words.' % sorted(inconsistent))\n"
          ],
          "name": "stderr"
        },
        {
          "output_type": "execute_result",
          "data": {
            "text/plain": [
              "Pipeline(memory=None,\n",
              "         steps=[('vect',\n",
              "                 TfidfVectorizer(analyzer='word', binary=False,\n",
              "                                 decode_error='strict',\n",
              "                                 dtype=<class 'numpy.float64'>,\n",
              "                                 encoding='utf-8', input='content',\n",
              "                                 lowercase=True, max_df=0.7, max_features=10000,\n",
              "                                 min_df=2, ngram_range=(1, 2), norm='l2',\n",
              "                                 preprocessor=None, smooth_idf=True,\n",
              "                                 stop_words={\"'d\", \"'ll\", \"'m\", \"'re\", \"'s\",\n",
              "                                             \"'ve\", 'a', 'about', 'above',\n",
              "                                             'acr...\n",
              "                 RandomForestClassifier(bootstrap=True, ccp_alpha=0.0,\n",
              "                                        class_weight=None, criterion='gini',\n",
              "                                        max_depth=None, max_features='auto',\n",
              "                                        max_leaf_nodes=None, max_samples=None,\n",
              "                                        min_impurity_decrease=0.0,\n",
              "                                        min_impurity_split=None,\n",
              "                                        min_samples_leaf=1, min_samples_split=2,\n",
              "                                        min_weight_fraction_leaf=0.0,\n",
              "                                        n_estimators=500, n_jobs=None,\n",
              "                                        oob_score=False, random_state=11,\n",
              "                                        verbose=0, warm_start=False))],\n",
              "         verbose=False)"
            ]
          },
          "metadata": {
            "tags": []
          },
          "execution_count": 36
        }
      ]
    },
    {
      "cell_type": "markdown",
      "metadata": {
        "id": "To6xF2FoOgxb"
      },
      "source": [
        "**Cross Validation Parameter Search**"
      ]
    },
    {
      "cell_type": "code",
      "metadata": {
        "id": "D9fDxg4oKPhY",
        "outputId": "c3a9ffb0-5fa5-4c9a-c315-cc8881b1773b",
        "colab": {
          "base_uri": "https://localhost:8080/"
        }
      },
      "source": [
        "# 파라미터 셋팅\n",
        "parameters = {\n",
        "    'vect__max_df': (0.7, 1.0) \n",
        "    ,'vect__min_df': (2, 5, 10) \n",
        "    ,'vect__max_features': (5000, 20000) \n",
        "    ,'clf__n_estimators': (100, 500) \n",
        "    ,'clf__max_depth': (10, 20, None) \n",
        "}\n",
        "\n",
        "random_search = RandomizedSearchCV(pipe, parameters, cv=5, n_jobs=-1, verbose=1)\n",
        "random_search.fit(x_train,y_train)"
      ],
      "execution_count": null,
      "outputs": [
        {
          "output_type": "stream",
          "text": [
            "Fitting 5 folds for each of 10 candidates, totalling 50 fits\n"
          ],
          "name": "stdout"
        },
        {
          "output_type": "stream",
          "text": [
            "[Parallel(n_jobs=-1)]: Using backend LokyBackend with 40 concurrent workers.\n"
          ],
          "name": "stderr"
        }
      ]
    },
    {
      "cell_type": "code",
      "metadata": {
        "id": "DLFER2mtKWy2"
      },
      "source": [
        "random_search.best_score_"
      ],
      "execution_count": null,
      "outputs": []
    },
    {
      "cell_type": "code",
      "metadata": {
        "id": "X6OHqBpHKXZa"
      },
      "source": [
        "random_search.best_params_"
      ],
      "execution_count": null,
      "outputs": []
    },
    {
      "cell_type": "markdown",
      "metadata": {
        "id": "LcRsWwxoOmxR"
      },
      "source": [
        "**Accuracy score**"
      ]
    },
    {
      "cell_type": "code",
      "metadata": {
        "id": "HEpJ7HzRNu0h"
      },
      "source": [
        "from sklearn.metrics import accuracy_score\n",
        "\n",
        "y_pred = random_search.predict(x_test)\n",
        "accuracy_score(y_test, y_pred)"
      ],
      "execution_count": null,
      "outputs": []
    }
  ]
}