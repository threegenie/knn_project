{
  "nbformat": 4,
  "nbformat_minor": 0,
  "metadata": {
    "colab": {
      "name": "new work times project.ipynb",
      "provenance": [],
      "machine_shape": "hm",
      "include_colab_link": true
    },
    "kernelspec": {
      "name": "python3",
      "display_name": "Python 3"
    },
    "language_info": {
      "name": "python"
    },
    "accelerator": "TPU"
  },
  "cells": [
    {
      "cell_type": "markdown",
      "metadata": {
        "id": "view-in-github",
        "colab_type": "text"
      },
      "source": [
        "<a href=\"https://colab.research.google.com/github/threegenie/knn_project/blob/main/new_work_times_project.ipynb\" target=\"_parent\"><img src=\"https://colab.research.google.com/assets/colab-badge.svg\" alt=\"Open In Colab\"/></a>"
      ]
    },
    {
      "cell_type": "code",
      "metadata": {
        "colab": {
          "base_uri": "https://localhost:8080/"
        },
        "id": "aM1RotxEYdrT",
        "outputId": "f355bfa4-068c-4f55-c079-685022489149"
      },
      "source": [
        "import pandas as pd\n",
        "import os, sys\n",
        "import numpy as np\n",
        "from google.colab import drive\n",
        "\n",
        "drive.mount('/content/drive')\n",
        "# df1 = pd.read_csv('/content/drive/My Drive/df_2016.csv',encoding= 'unicode_escape')\n",
        "# df2 = pd.read_csv('/content/drive/My Drive/df_2017.csv',encoding= 'unicode_escape')\n",
        "# df3 = pd.read_csv('/content/drive/My Drive/df_2018.csv',encoding= 'unicode_escape')\n",
        "# df4 = pd.read_csv('/content/drive/My Drive/df_2019.csv',encoding= 'unicode_escape')\n",
        "df = pd.read_csv('/content/drive/My Drive/df_2020.csv',encoding= 'unicode_escape')\n"
      ],
      "execution_count": 2,
      "outputs": [
        {
          "output_type": "stream",
          "text": [
            "Mounted at /content/drive\n"
          ],
          "name": "stdout"
        }
      ]
    },
    {
      "cell_type": "code",
      "metadata": {
        "colab": {
          "base_uri": "https://localhost:8080/"
        },
        "id": "FpZGw1pqZPtw",
        "outputId": "7b961a47-7210-4600-b0f7-54edf2c13745"
      },
      "source": [
        "# df = pd.concat([df4,df5],ignore_index=True)\n",
        "# df.shape"
      ],
      "execution_count": 3,
      "outputs": [
        {
          "output_type": "execute_result",
          "data": {
            "text/plain": [
              "(149726, 3)"
            ]
          },
          "metadata": {
            "tags": []
          },
          "execution_count": 3
        }
      ]
    },
    {
      "cell_type": "code",
      "metadata": {
        "colab": {
          "base_uri": "https://localhost:8080/",
          "height": 204
        },
        "id": "Xa8KHt28Zdgn",
        "outputId": "a9b5063a-da3a-4ee8-991e-4fc48a35a6c7"
      },
      "source": [
        "df.head()"
      ],
      "execution_count": 3,
      "outputs": [
        {
          "output_type": "execute_result",
          "data": {
            "text/html": [
              "<div>\n",
              "<style scoped>\n",
              "    .dataframe tbody tr th:only-of-type {\n",
              "        vertical-align: middle;\n",
              "    }\n",
              "\n",
              "    .dataframe tbody tr th {\n",
              "        vertical-align: top;\n",
              "    }\n",
              "\n",
              "    .dataframe thead th {\n",
              "        text-align: right;\n",
              "    }\n",
              "</style>\n",
              "<table border=\"1\" class=\"dataframe\">\n",
              "  <thead>\n",
              "    <tr style=\"text-align: right;\">\n",
              "      <th></th>\n",
              "      <th>Unnamed: 0</th>\n",
              "      <th>year</th>\n",
              "      <th>sentence</th>\n",
              "    </tr>\n",
              "  </thead>\n",
              "  <tbody>\n",
              "    <tr>\n",
              "      <th>0</th>\n",
              "      <td>0</td>\n",
              "      <td>2020</td>\n",
              "      <td>The fugitive from Japan has put Lebanon in an ...</td>\n",
              "    </tr>\n",
              "    <tr>\n",
              "      <th>1</th>\n",
              "      <td>1</td>\n",
              "      <td>2020</td>\n",
              "      <td>Mixed reaction to the news that Maj. Gen. Qass...</td>\n",
              "    </tr>\n",
              "    <tr>\n",
              "      <th>2</th>\n",
              "      <td>2</td>\n",
              "      <td>2020</td>\n",
              "      <td>In bronze, silver or aluminum, a statue is an ...</td>\n",
              "    </tr>\n",
              "    <tr>\n",
              "      <th>3</th>\n",
              "      <td>3</td>\n",
              "      <td>2020</td>\n",
              "      <td>Also this week, holiday fireworks in Iceland a...</td>\n",
              "    </tr>\n",
              "    <tr>\n",
              "      <th>4</th>\n",
              "      <td>4</td>\n",
              "      <td>2020</td>\n",
              "      <td>The teenager, accused in the death of the Barn...</td>\n",
              "    </tr>\n",
              "  </tbody>\n",
              "</table>\n",
              "</div>"
            ],
            "text/plain": [
              "   Unnamed: 0  year                                           sentence\n",
              "0           0  2020  The fugitive from Japan has put Lebanon in an ...\n",
              "1           1  2020  Mixed reaction to the news that Maj. Gen. Qass...\n",
              "2           2  2020  In bronze, silver or aluminum, a statue is an ...\n",
              "3           3  2020  Also this week, holiday fireworks in Iceland a...\n",
              "4           4  2020  The teenager, accused in the death of the Barn..."
            ]
          },
          "metadata": {
            "tags": []
          },
          "execution_count": 3
        }
      ]
    },
    {
      "cell_type": "code",
      "metadata": {
        "colab": {
          "base_uri": "https://localhost:8080/"
        },
        "id": "AOssle3nZXKv",
        "outputId": "7c4f489f-2334-4cae-ff08-2a1f78d29fe4"
      },
      "source": [
        "df.info()"
      ],
      "execution_count": 4,
      "outputs": [
        {
          "output_type": "stream",
          "text": [
            "<class 'pandas.core.frame.DataFrame'>\n",
            "RangeIndex: 69119 entries, 0 to 69118\n",
            "Data columns (total 3 columns):\n",
            " #   Column      Non-Null Count  Dtype \n",
            "---  ------      --------------  ----- \n",
            " 0   Unnamed: 0  69119 non-null  int64 \n",
            " 1   year        69119 non-null  int64 \n",
            " 2   sentence    69119 non-null  object\n",
            "dtypes: int64(2), object(1)\n",
            "memory usage: 1.6+ MB\n"
          ],
          "name": "stdout"
        }
      ]
    },
    {
      "cell_type": "code",
      "metadata": {
        "id": "6klntVdoREjo"
      },
      "source": [
        "df = df.drop(['Unnamed: 0','year'],axis=1)"
      ],
      "execution_count": 7,
      "outputs": []
    },
    {
      "cell_type": "code",
      "metadata": {
        "id": "a0NH4h-yRV7M",
        "outputId": "a94bcc6e-d485-41cb-8fee-02bef5da78f2",
        "colab": {
          "base_uri": "https://localhost:8080/",
          "height": 204
        }
      },
      "source": [
        "df.head()"
      ],
      "execution_count": 8,
      "outputs": [
        {
          "output_type": "execute_result",
          "data": {
            "text/html": [
              "<div>\n",
              "<style scoped>\n",
              "    .dataframe tbody tr th:only-of-type {\n",
              "        vertical-align: middle;\n",
              "    }\n",
              "\n",
              "    .dataframe tbody tr th {\n",
              "        vertical-align: top;\n",
              "    }\n",
              "\n",
              "    .dataframe thead th {\n",
              "        text-align: right;\n",
              "    }\n",
              "</style>\n",
              "<table border=\"1\" class=\"dataframe\">\n",
              "  <thead>\n",
              "    <tr style=\"text-align: right;\">\n",
              "      <th></th>\n",
              "      <th>sentence</th>\n",
              "    </tr>\n",
              "  </thead>\n",
              "  <tbody>\n",
              "    <tr>\n",
              "      <th>0</th>\n",
              "      <td>The fugitive from Japan has put Lebanon in an ...</td>\n",
              "    </tr>\n",
              "    <tr>\n",
              "      <th>1</th>\n",
              "      <td>Mixed reaction to the news that Maj. Gen. Qass...</td>\n",
              "    </tr>\n",
              "    <tr>\n",
              "      <th>2</th>\n",
              "      <td>In bronze, silver or aluminum, a statue is an ...</td>\n",
              "    </tr>\n",
              "    <tr>\n",
              "      <th>3</th>\n",
              "      <td>Also this week, holiday fireworks in Iceland a...</td>\n",
              "    </tr>\n",
              "    <tr>\n",
              "      <th>4</th>\n",
              "      <td>The teenager, accused in the death of the Barn...</td>\n",
              "    </tr>\n",
              "  </tbody>\n",
              "</table>\n",
              "</div>"
            ],
            "text/plain": [
              "                                            sentence\n",
              "0  The fugitive from Japan has put Lebanon in an ...\n",
              "1  Mixed reaction to the news that Maj. Gen. Qass...\n",
              "2  In bronze, silver or aluminum, a statue is an ...\n",
              "3  Also this week, holiday fireworks in Iceland a...\n",
              "4  The teenager, accused in the death of the Barn..."
            ]
          },
          "metadata": {
            "tags": []
          },
          "execution_count": 8
        }
      ]
    },
    {
      "cell_type": "markdown",
      "metadata": {
        "id": "lnmJiEcbQdHj"
      },
      "source": [
        "#### 토큰 정제"
      ]
    },
    {
      "cell_type": "code",
      "metadata": {
        "id": "ZU-UAgJyZdBP",
        "outputId": "30cc2b32-44b9-4abb-bf0a-0b82db6868d6",
        "colab": {
          "base_uri": "https://localhost:8080/"
        }
      },
      "source": [
        "!pip install squarify"
      ],
      "execution_count": 9,
      "outputs": [
        {
          "output_type": "stream",
          "text": [
            "Collecting squarify\n",
            "  Downloading https://files.pythonhosted.org/packages/0b/2b/2e77c35326efec19819cd1d729540d4d235e6c2a3f37658288a363a67da5/squarify-0.4.3-py3-none-any.whl\n",
            "Installing collected packages: squarify\n",
            "Successfully installed squarify-0.4.3\n"
          ],
          "name": "stdout"
        }
      ]
    },
    {
      "cell_type": "code",
      "metadata": {
        "id": "X0jKPfscQfNE"
      },
      "source": [
        "import re\n",
        "import squarify\n",
        "import matplotlib.pyplot as plt\n",
        "import seaborn as sns\n",
        "import spacy\n",
        "from spacy.tokenizer import Tokenizer"
      ],
      "execution_count": 10,
      "outputs": []
    },
    {
      "cell_type": "code",
      "metadata": {
        "id": "_asjV2ip08EA"
      },
      "source": [
        "# #알파벳, 숫자만 받을 수 있도록 함수 작성(text):\n",
        "\n",
        "# regex = r\"[^a-zA-Z0-9 ]\"\n",
        "# subst = \"\"\n",
        "\n",
        "# def tokenize(text):\n",
        "\n",
        "#     # 정규식 적용\n",
        "#     tokens = re.sub(regex, subst, text)\n",
        "\n",
        "#     # split\n",
        "#     tokens = tokens.split()\n",
        "    \n",
        "#     return tokens\n",
        "\n",
        "# df['Tokens'] = df['sentence'].apply(tokenize)"
      ],
      "execution_count": 25,
      "outputs": []
    },
    {
      "cell_type": "code",
      "metadata": {
        "id": "tCjjxvRmQo56",
        "outputId": "5a131deb-1643-4808-dc0f-3c78b70aa384",
        "colab": {
          "base_uri": "https://localhost:8080/"
        }
      },
      "source": [
        "#기본 불용어 불러오기\n",
        "nlp = spacy.load(\"en_core_web_sm\")\n",
        "tokenizer = Tokenizer(nlp.vocab)\n",
        "print(nlp.Defaults.stop_words)"
      ],
      "execution_count": 11,
      "outputs": [
        {
          "output_type": "stream",
          "text": [
            "{'sixty', 'too', 'must', 'they', 'herein', 'sometime', 'whole', 'else', 'am', 'across', 'latterly', '‘re', 'above', 'call', 'can', '‘s', 'even', 'keep', 'give', 'along', 'therefore', 'could', 'up', 'be', 'our', 'cannot', 'ourselves', '’ll', 'those', 'himself', 'herself', 'put', 'back', 'around', 'within', \"'re\", 'more', 'onto', 'her', 'seems', 'almost', 'five', 'whether', 'twenty', 'out', 'regarding', 'becoming', 'behind', 'his', 'twelve', 'quite', 'who', 'few', 'why', 'already', 'there', 'have', 'yet', 'many', \"'m\", 'nevertheless', 'itself', \"n't\", 'full', 'doing', '‘d', 'about', 'your', 'none', 'these', 'say', 'when', 'formerly', 'using', 'again', 'an', 'than', 'same', 'whereafter', '’d', 'go', 'ours', 'just', 'less', 'me', 'the', 'several', 'together', 'other', 'made', 'now', 'amongst', 'top', 'part', 'through', 'see', 'either', 'themselves', 'anyone', 'we', 'fifty', 'he', 'would', 'four', 'which', 'mostly', 'serious', 'only', 'how', 'always', 'also', 'whereby', '‘ve', 'n‘t', '’m', 'myself', 'seeming', 'fifteen', 'before', 'down', 'that', 'with', 'besides', 'although', 'rather', 'nothing', 'them', 'ca', 'whereas', 'no', 'nor', 'us', 'hundred', 'their', 'to', 'do', 'side', 'used', 'three', 'six', 'been', 'everyone', 'on', 'any', 'ever', 'neither', 'indeed', 'toward', 'yours', 'everywhere', 'was', 'as', 'does', 'make', 'hereby', 'somehow', 'wherever', 'each', 'whither', 'nowhere', 'something', 'wherein', 'by', 'done', 'least', 'further', 'whoever', 'after', 'beside', 'n’t', 'or', 'anywhere', 'bottom', 'moreover', 'most', '‘ll', 'because', 'much', 'move', '’re', 'enough', 'often', 'beyond', 'thereupon', 'unless', 'name', 'eight', 'if', 'all', 'thru', 'every', 'hers', 'amount', 'eleven', 'during', 'become', 'meanwhile', 'show', 'sometimes', 'ten', 'did', 'otherwise', 'thence', 'really', 'others', 'for', 'except', 'very', 'whenever', 'thereafter', 'its', '‘m', 'therein', 'first', 'until', 'alone', 'became', 'being', 'anyhow', 'had', 'per', 'so', 'noone', 'beforehand', 'is', 'are', 'some', 'due', 'once', 'it', \"'s\", 'anyway', 'hence', 'off', 'empty', 'take', 'here', 're', 'might', 'please', 'among', 'anything', 'then', 'you', 'should', 'upon', 'former', 'below', 'were', 'at', 'though', 'well', 'not', 'another', 'own', 'whose', 'various', 'someone', '’ve', \"'d\", 'via', 'such', 'get', 'under', 'front', 'becomes', 'everything', 'my', 'will', 'between', 'somewhere', 'never', 'she', 'elsewhere', 'but', 'namely', 'thereby', 'however', 'him', 'i', 'third', 'still', 'has', 'without', 'yourselves', 'in', 'perhaps', 'while', 'towards', 'whatever', 'whence', 'two', 'against', 'of', 'afterwards', 'what', 'last', 'whereupon', \"'ll\", 'thus', 'may', 'into', 'mine', 'whom', 'latter', 'seemed', 'over', 'from', \"'ve\", 'this', 'yourself', 'next', 'nobody', 'hereafter', '’s', 'and', 'one', 'nine', 'where', 'forty', 'hereupon', 'since', 'throughout', 'both', 'a', 'seem'}\n"
          ],
          "name": "stdout"
        }
      ]
    },
    {
      "cell_type": "code",
      "metadata": {
        "id": "ukKWGqVMQqKZ"
      },
      "source": [
        "#불용어 추가하기\n",
        "st_words = nlp.Defaults.stop_words.union(['this', 'i', 'it', 'is', 'in', 'and', 'a', 'the', 'but', 'to', 'the',\n",
        "                                          'â\\x80\\x94','said','york','u.s.'])"
      ],
      "execution_count": 13,
      "outputs": []
    },
    {
      "cell_type": "code",
      "metadata": {
        "id": "_HaL2_28Q0N6",
        "outputId": "4f2a82e4-923b-455c-bb3f-99780e2d8b05",
        "colab": {
          "base_uri": "https://localhost:8080/"
        }
      },
      "source": [
        "# #불용어 처리 + lemmatization\n",
        "# tokens = []\n",
        "# regex = r\"[^a-zA-Z0-9 ]\"\n",
        "# subst = \"\"\n",
        "\n",
        "# for doc in tokenizer.pipe(df['sentence']):\n",
        "#     doc_tokens = []\n",
        "#     for token in doc:\n",
        "#         if token.text.lower() not in st_words and ((token.is_stop == False) and (token.is_punct == False)) and (token.pos_ != 'PRON'):\n",
        "#             doc_tokens.append(token.text.lower())\n",
        "#     tokens.append(doc_tokens)\n",
        " \n",
        "# df['Tokens'] = tokens\n",
        "# df['Tokens'].head(3)"
      ],
      "execution_count": 28,
      "outputs": [
        {
          "output_type": "execute_result",
          "data": {
            "text/plain": [
              "0    [love,, political, change,, pennant:, readers,...\n",
              "1    [director, barbet, schroeder, follows, ashin, ...\n",
              "2    [eric, drouetâs, arrest,, second, role, prot...\n",
              "Name: Tokens, dtype: object"
            ]
          },
          "metadata": {
            "tags": []
          },
          "execution_count": 28
        }
      ]
    },
    {
      "cell_type": "code",
      "metadata": {
        "id": "1K1uKAmHPBU7"
      },
      "source": [
        "def tokenize(text):\n",
        "  text = text.lower()\n",
        "  text = text.replace(\"\\n\",\" \")\n",
        "\n",
        "  subst = \"\"\n",
        "  regex = \"[^a-zA-Z0-9 ]\"\n",
        "  doc = re.sub(regex, subst, text)\n",
        "\n",
        "  doc = nlp(doc)\n",
        "  tokens = []\n",
        "\n",
        "  for token in doc :\n",
        "    if (token.text.lower() not in st_words) & (token.is_stop == False) & (token.is_punct == False) & (token.is_alpha):\n",
        "      tokens.append(token.lemma_)\n",
        "      \n",
        "  return tokens"
      ],
      "execution_count": 14,
      "outputs": []
    },
    {
      "cell_type": "code",
      "metadata": {
        "id": "BwRoDK59PNhO"
      },
      "source": [
        "df['Tokens']=df['sentence'].apply(tokenize)\n",
        "df['Tokens'].head(3)"
      ],
      "execution_count": null,
      "outputs": []
    },
    {
      "cell_type": "markdown",
      "metadata": {
        "id": "5mvZh1GpRAIT"
      },
      "source": [
        "#### 단어 빈도에 따라 시각화"
      ]
    },
    {
      "cell_type": "code",
      "metadata": {
        "id": "VeToevWmRCpk"
      },
      "source": [
        "def word_count(docs):\n",
        "   \n",
        "    # 전체 코퍼스에서 단어 빈도 카운트\n",
        "    word_counts = Counter()\n",
        "\n",
        "    # 단어가 존재하는 문서의 빈도 카운트, 단어가 한 번 이상 존재하면 +1\n",
        "    word_in_docs = Counter()\n",
        "\n",
        "    # 전체 문서의 갯수\n",
        "    total_docs = len(docs)\n",
        "\n",
        "    for doc in docs:\n",
        "        word_counts.update(doc)\n",
        "        word_in_docs.update(set(doc))\n",
        "\n",
        "    temp = zip(word_counts.keys(), word_counts.values())\n",
        "\n",
        "    wc = pd.DataFrame(temp, columns = ['word', 'count'])\n",
        "\n",
        "    # 단어의 순위\n",
        "    # method='first': 같은 값의 경우 먼저나온 요소를 우선\n",
        "    wc['rank'] = wc['count'].rank(method='first', ascending=False)\n",
        "    total = wc['count'].sum()\n",
        "\n",
        "    # 코퍼스 내 단어의 비율\n",
        "    wc['percent'] = wc['count'].apply(lambda x: x / total)\n",
        "\n",
        "    wc = wc.sort_values(by='rank')\n",
        "\n",
        "    # 누적 비율\n",
        "    # cumsum() : cumulative sum\n",
        "    wc['cul_percent'] = wc['percent'].cumsum()\n",
        "\n",
        "    temp2 = zip(word_in_docs.keys(), word_in_docs.values())\n",
        "    ac = pd.DataFrame(temp2, columns=['word', 'word_in_docs'])\n",
        "    wc = ac.merge(wc, on='word')\n",
        "    \n",
        "    # 전체 문서 중 존재하는 비율\n",
        "    wc['word_in_docs_percent'] = wc['word_in_docs'].apply(lambda x: x / total_docs)\n",
        "\n",
        "    return wc.sort_values(by='rank')"
      ],
      "execution_count": null,
      "outputs": []
    },
    {
      "cell_type": "code",
      "metadata": {
        "id": "IflUi3YTQ-1j"
      },
      "source": [
        "from collections import Counter\n",
        "word_counts = Counter()\n",
        "df['Tokens'].apply(lambda x: word_counts.update(x))\n",
        "word_counts.most_common(10)"
      ],
      "execution_count": null,
      "outputs": []
    },
    {
      "cell_type": "code",
      "metadata": {
        "id": "GK0GLE8nREaB"
      },
      "source": [
        "wc = word_count(df['Tokens'])\n",
        "wc.head(5)"
      ],
      "execution_count": null,
      "outputs": []
    },
    {
      "cell_type": "code",
      "metadata": {
        "id": "hr4WIVLiRKZx"
      },
      "source": [
        "import squarify\n",
        "import matplotlib.pyplot as plt\n",
        "\n",
        "color=['viridis']\n",
        "\n",
        "wc_top5 = wc[wc['rank'] <= 10]\n",
        "squarify.plot(sizes=wc_top5['percent'], label=wc_top5['word'], alpha=0.6)\n",
        "plt.axis('off')\n",
        "plt.title('Token Top 10')\n",
        "plt.show()"
      ],
      "execution_count": null,
      "outputs": []
    },
    {
      "cell_type": "code",
      "metadata": {
        "id": "NUHmxIeXQQr9"
      },
      "source": [
        "sns.barplot(y=wc['word'][:10],x=wc['count'][:10],ax=ax[1],orient='h')"
      ],
      "execution_count": null,
      "outputs": []
    },
    {
      "cell_type": "markdown",
      "metadata": {
        "id": "rW69CeMjQyOV"
      },
      "source": [
        "#### 코로나바이러스 관련 기사 찾기"
      ]
    },
    {
      "cell_type": "code",
      "metadata": {
        "id": "F_qYcE9cQ3Xo"
      },
      "source": [
        "label = {}\n",
        "\n",
        "for title in df.title.unique():\n",
        "  title_low = title.lower()\n",
        "  if 'senior' in title_low:\n",
        "    label.setdefault(title,0)\n",
        "  else:\n",
        "    label.setdefault(title,1)"
      ],
      "execution_count": null,
      "outputs": []
    }
  ]
}